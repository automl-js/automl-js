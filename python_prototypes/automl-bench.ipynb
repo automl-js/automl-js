{
 "cells": [
  {
   "cell_type": "markdown",
   "metadata": {},
   "source": [
    "# JS vs PY automl: who will win?\n",
    "\n",
    "Here an instance of a rather simplistic automl implementation in Python is pitted against implementation in JS. Does the JS version of AutoML reach the quality standards of even a simple Python version? Find out in this notebook."
   ]
  },
  {
   "cell_type": "code",
   "execution_count": 1,
   "metadata": {},
   "outputs": [],
   "source": [
    "from subprocess import call, DEVNULL\n",
    "import numpy as np\n",
    "import pmlb\n",
    "import json\n",
    "from time import time\n",
    "import os\n",
    "import random"
   ]
  },
  {
   "cell_type": "markdown",
   "metadata": {},
   "source": [
    "## Reference implementation in Python\n",
    "\n",
    "A simple grid search is employed to do automl in Python. The code below should speak for itself."
   ]
  },
  {
   "cell_type": "code",
   "execution_count": 2,
   "metadata": {},
   "outputs": [],
   "source": [
    "from sklearn.model_selection import train_test_split, GridSearchCV\n",
    "from sklearn.tree import DecisionTreeClassifier, DecisionTreeRegressor\n",
    "from sklearn.linear_model import SGDClassifier, SGDRegressor\n",
    "from sklearn.ensemble import GradientBoostingClassifier, GradientBoostingRegressor\n",
    "from sklearn.dummy import DummyClassifier, DummyRegressor\n",
    "from sklearn.preprocessing import StandardScaler\n",
    "from sklearn.impute import SimpleImputer\n",
    "from sklearn.pipeline import make_pipeline, Pipeline\n",
    "\n",
    "from time import time\n",
    "\n",
    "class PythonAutoML():\n",
    "    def __init__(self):\n",
    "        pass\n",
    "    \n",
    "    def fit_predict(self, X_train, y_train, X_test):\n",
    "        # determine type of learning problem\n",
    "        classification = False\n",
    "        \n",
    "        for v in y_train:\n",
    "            try:\n",
    "                v = float(v)\n",
    "            except BaseException as ex:\n",
    "                classification = True\n",
    "                break\n",
    "        \n",
    "        \n",
    "        # its a tree\n",
    "        tree = {\n",
    "            'model': [DecisionTreeClassifier() if classification else DecisionTreeRegressor()],\n",
    "            'model__max_leaf_nodes': [3, 5, 7, 11, 19, 31, 53, 89, 137, 179, 227, 271]\n",
    "        }\n",
    "        \n",
    "        # its a dot product\n",
    "        lsgd = {\n",
    "            'model': [SGDClassifier() if classification else SGDRegressor()],\n",
    "            'model__alpha': np.logspace(-3, 6, 11),\n",
    "            'model__l1_ratio': [0.0, 0.5, 1.0]\n",
    "        }\n",
    "        \n",
    "        # no its a gradient boosting\n",
    "        gbdt = {\n",
    "            'model': [GradientBoostingClassifier() if classification else GradientBoostingRegressor()],\n",
    "            'model__learning_rate': [0.001, 0.005, 0.01, 0.05, 0.1, 0.5]\n",
    "        }\n",
    "        \n",
    "        model = GridSearchCV(\n",
    "            estimator=Pipeline([\n",
    "                ('imputer', SimpleImputer()),\n",
    "                ('scaler', StandardScaler()),\n",
    "                ('model', DummyRegressor())\n",
    "            ]),\n",
    "            param_grid=[\n",
    "                tree, lsgd, gbdt\n",
    "            ],\n",
    "            cv=5,\n",
    "            n_jobs=-1,\n",
    "            verbose=0\n",
    "        )\n",
    "        \n",
    "        start = time()\n",
    "        model.fit(X_train, y_train)\n",
    "        duration = time() - start\n",
    "        \n",
    "        y_pred = model.predict(X_test)\n",
    "        \n",
    "        return {\n",
    "            'y_pred': y_pred,\n",
    "            'fit_time': duration\n",
    "        }"
   ]
  },
  {
   "cell_type": "markdown",
   "metadata": {},
   "source": [
    "## Implementation in JavaScript\n",
    "\n",
    "It is given below."
   ]
  },
  {
   "cell_type": "code",
   "execution_count": 3,
   "metadata": {},
   "outputs": [],
   "source": [
    "from random import choice\n",
    "import json\n",
    "from subprocess import call, DEVNULL\n",
    "\n",
    "class JSAutoML():\n",
    "    def __init__(self):\n",
    "        pass\n",
    "    \n",
    "    def fit_predict(self, X_train, y_train, X_test):\n",
    "        puid = ''.join([choice(\"abcdefghijklmnopqrstuvwxyz\") for _ in range(10)])\n",
    "        \n",
    "        node_code = \"\"\"\n",
    "const puid = \"%s\"\n",
    "const ai = require('../src/automljs')\n",
    "const fs = require('fs')\n",
    "var data = JSON.parse(fs.readFileSync(puid + '.data.json', 'utf8'));\n",
    "\n",
    "async function main(){\n",
    "    var X = data['X'];\n",
    "    var y = data['y'];\n",
    "    var X_test = data['X_test'];\n",
    "\n",
    "    // read estimator from the serialization module\n",
    "    var model = new ai.automl.AutoMLModel({'max_iter':10})\n",
    "\n",
    "    var fit_start = process.hrtime();\n",
    "    await model.fit(X, y)\n",
    "    var elapsed = process.hrtime(fit_start)[1] / 1000000; // divide by a million to get nano to milli\n",
    "    \n",
    "    var y_pred = await model.predict(X_test)\n",
    "    \n",
    "    var res = {\n",
    "        'y_pred': y_pred\n",
    "    }\n",
    "    await fs.writeFile(puid + '.result.json', JSON.stringify(res), 'utf8', function(){ })\n",
    "}\n",
    "\n",
    "main()\n",
    "    \"\"\" % puid\n",
    "        \n",
    "        jsfile = puid + '.js'\n",
    "        dtfile = puid + '.data.json'\n",
    "        rsfile = puid + '.result.json'\n",
    "        \n",
    "        with open(jsfile, 'w') as s:\n",
    "            s.write(node_code)\n",
    "\n",
    "        with open(dtfile, 'w') as d:\n",
    "            json.dump({\n",
    "                'X': X_train.tolist(),\n",
    "                'y': y_train.tolist(),\n",
    "                'X_test': X_test.tolist()\n",
    "            }, d)\n",
    "        \n",
    "        \n",
    "        start = time()\n",
    "        call(['node ' + jsfile], shell=True)\n",
    "        duration = time() - start\n",
    "        \n",
    "        result = None\n",
    "        with open(rsfile, 'r') as js:\n",
    "            result = json.load(js)\n",
    "                \n",
    "        return {\n",
    "            'y_pred': result['y_pred'],\n",
    "            'fit_time': duration\n",
    "        }"
   ]
  },
  {
   "cell_type": "markdown",
   "metadata": {},
   "source": [
    "## Benchmarks!"
   ]
  },
  {
   "cell_type": "code",
   "execution_count": 4,
   "metadata": {},
   "outputs": [
    {
     "name": "stdout",
     "output_type": "stream",
     "text": [
      "Fetching data ...\n",
      "GAMETES_Epistasis_2-Way_1000atts_0.4H_EDM-1_EDM-1_1 (1600, 1000)\n",
      "Fetching data ...\n",
      "GAMETES_Epistasis_2-Way_20atts_0.1H_EDM-1_1 (1600, 20)\n",
      "Number of unique outputs: 2\n"
     ]
    },
    {
     "name": "stderr",
     "output_type": "stream",
     "text": [
      "/home/iaroslav/.local/lib/python3.5/site-packages/sklearn/linear_model/stochastic_gradient.py:166: FutureWarning: max_iter and tol parameters have been added in SGDClassifier in 0.19. If both are left unset, they default to max_iter=5 and tol=None. If tol is not None, max_iter defaults to max_iter=1000. From 0.21, default max_iter will be 1000, and default tol will be 1e-3.\n",
      "  FutureWarning)\n"
     ]
    },
    {
     "name": "stdout",
     "output_type": "stream",
     "text": [
      "{'dataset_name': 'GAMETES_Epistasis_2-Way_20atts_0.1H_EDM-1_1',\n",
      " 'dataset_shape': '(1000, 20)',\n",
      " 'models': {'JSAutoML': {'fit_time': 12.526461362838745, 'test_score': 0.8},\n",
      "            'PythonAutoML': {'fit_time': 4.450036287307739, 'test_score': 0.8}}}\n",
      "Fetching data ...\n",
      "GAMETES_Epistasis_2-Way_20atts_0.4H_EDM-1_1 (1600, 20)\n",
      "Number of unique outputs: 2\n"
     ]
    },
    {
     "name": "stderr",
     "output_type": "stream",
     "text": [
      "/home/iaroslav/.local/lib/python3.5/site-packages/sklearn/linear_model/stochastic_gradient.py:166: FutureWarning: max_iter and tol parameters have been added in SGDClassifier in 0.19. If both are left unset, they default to max_iter=5 and tol=None. If tol is not None, max_iter defaults to max_iter=1000. From 0.21, default max_iter will be 1000, and default tol will be 1e-3.\n",
      "  FutureWarning)\n"
     ]
    },
    {
     "name": "stdout",
     "output_type": "stream",
     "text": [
      "{'dataset_name': 'GAMETES_Epistasis_2-Way_20atts_0.4H_EDM-1_1',\n",
      " 'dataset_shape': '(1000, 20)',\n",
      " 'models': {'JSAutoML': {'fit_time': 18.13745665550232, 'test_score': 0.8},\n",
      "            'PythonAutoML': {'fit_time': 2.7968454360961914,\n",
      "                             'test_score': 0.8}}}\n",
      "Fetching data ...\n",
      "GAMETES_Epistasis_3-Way_20atts_0.2H_EDM-1_1 (1600, 20)\n",
      "Number of unique outputs: 2\n"
     ]
    },
    {
     "name": "stderr",
     "output_type": "stream",
     "text": [
      "/home/iaroslav/.local/lib/python3.5/site-packages/sklearn/linear_model/stochastic_gradient.py:166: FutureWarning: max_iter and tol parameters have been added in SGDClassifier in 0.19. If both are left unset, they default to max_iter=5 and tol=None. If tol is not None, max_iter defaults to max_iter=1000. From 0.21, default max_iter will be 1000, and default tol will be 1e-3.\n",
      "  FutureWarning)\n"
     ]
    },
    {
     "name": "stdout",
     "output_type": "stream",
     "text": [
      "{'dataset_name': 'GAMETES_Epistasis_3-Way_20atts_0.2H_EDM-1_1',\n",
      " 'dataset_shape': '(1000, 20)',\n",
      " 'models': {'JSAutoML': {'fit_time': 28.78261947631836, 'test_score': 0.8},\n",
      "            'PythonAutoML': {'fit_time': 3.4334025382995605,\n",
      "                             'test_score': 0.8}}}\n",
      "Fetching data ...\n",
      "GAMETES_Heterogeneity_20atts_1600_Het_0.4_0.2_50_EDM-2_001 (1600, 20)\n",
      "Number of unique outputs: 2\n"
     ]
    },
    {
     "name": "stderr",
     "output_type": "stream",
     "text": [
      "/home/iaroslav/.local/lib/python3.5/site-packages/sklearn/linear_model/stochastic_gradient.py:166: FutureWarning: max_iter and tol parameters have been added in SGDClassifier in 0.19. If both are left unset, they default to max_iter=5 and tol=None. If tol is not None, max_iter defaults to max_iter=1000. From 0.21, default max_iter will be 1000, and default tol will be 1e-3.\n",
      "  FutureWarning)\n"
     ]
    },
    {
     "name": "stdout",
     "output_type": "stream",
     "text": [
      "{'dataset_name': 'GAMETES_Heterogeneity_20atts_1600_Het_0.4_0.2_50_EDM-2_001',\n",
      " 'dataset_shape': '(1000, 20)',\n",
      " 'models': {'JSAutoML': {'fit_time': 13.765960454940796, 'test_score': 0.832},\n",
      "            'PythonAutoML': {'fit_time': 3.8290388584136963,\n",
      "                             'test_score': 0.8}}}\n",
      "Fetching data ...\n",
      "GAMETES_Heterogeneity_20atts_1600_Het_0.4_0.2_75_EDM-2_001 (1600, 20)\n",
      "Number of unique outputs: 2\n"
     ]
    },
    {
     "name": "stderr",
     "output_type": "stream",
     "text": [
      "/home/iaroslav/.local/lib/python3.5/site-packages/sklearn/linear_model/stochastic_gradient.py:166: FutureWarning: max_iter and tol parameters have been added in SGDClassifier in 0.19. If both are left unset, they default to max_iter=5 and tol=None. If tol is not None, max_iter defaults to max_iter=1000. From 0.21, default max_iter will be 1000, and default tol will be 1e-3.\n",
      "  FutureWarning)\n"
     ]
    },
    {
     "name": "stdout",
     "output_type": "stream",
     "text": [
      "{'dataset_name': 'GAMETES_Heterogeneity_20atts_1600_Het_0.4_0.2_75_EDM-2_001',\n",
      " 'dataset_shape': '(1000, 20)',\n",
      " 'models': {'JSAutoML': {'fit_time': 11.255825281143188, 'test_score': 0.8},\n",
      "            'PythonAutoML': {'fit_time': 3.1015045642852783,\n",
      "                             'test_score': 0.8}}}\n",
      "Fetching data ...\n",
      "Hill_Valley_with_noise (1212, 100)\n",
      "Number of unique outputs: 2\n"
     ]
    },
    {
     "name": "stderr",
     "output_type": "stream",
     "text": [
      "/home/iaroslav/.local/lib/python3.5/site-packages/sklearn/linear_model/stochastic_gradient.py:166: FutureWarning: max_iter and tol parameters have been added in SGDClassifier in 0.19. If both are left unset, they default to max_iter=5 and tol=None. If tol is not None, max_iter defaults to max_iter=1000. From 0.21, default max_iter will be 1000, and default tol will be 1e-3.\n",
      "  FutureWarning)\n"
     ]
    },
    {
     "name": "stdout",
     "output_type": "stream",
     "text": [
      "{'dataset_name': 'Hill_Valley_with_noise',\n",
      " 'dataset_shape': '(1000, 100)',\n",
      " 'models': {'JSAutoML': {'fit_time': 110.71375823020935, 'test_score': 0.54},\n",
      "            'PythonAutoML': {'fit_time': 7.995258808135986,\n",
      "                             'test_score': 0.488}}}\n",
      "Fetching data ...\n",
      "Hill_Valley_without_noise (1212, 100)\n",
      "Number of unique outputs: 2\n",
      "{'dataset_name': 'Hill_Valley_without_noise',\n",
      " 'dataset_shape': '(1000, 100)',\n",
      " 'models': {'JSAutoML': {'fit_time': 68.37301707267761, 'test_score': 0.568},\n",
      "            'PythonAutoML': {'fit_time': 7.820012092590332,\n",
      "                             'test_score': 0.572}}}\n",
      "Fetching data ...\n",
      "adult (48842, 14)\n",
      "Number of unique outputs: 2\n",
      "{'dataset_name': 'adult',\n",
      " 'dataset_shape': '(1000, 14)',\n",
      " 'models': {'JSAutoML': {'fit_time': 11.331003904342651, 'test_score': 0.836},\n",
      "            'PythonAutoML': {'fit_time': 2.6239871978759766,\n",
      "                             'test_score': 0.848}}}\n",
      "Fetching data ...\n",
      "agaricus-lepiota (8145, 22)\n",
      "Number of unique outputs: 2\n",
      "{'dataset_name': 'agaricus-lepiota',\n",
      " 'dataset_shape': '(1000, 22)',\n",
      " 'models': {'JSAutoML': {'fit_time': 6.712286472320557, 'test_score': 1.0},\n",
      "            'PythonAutoML': {'fit_time': 2.6418755054473877,\n",
      "                             'test_score': 1.0}}}\n",
      "Fetching data ...\n",
      "allbp (3772, 29)\n",
      "Number of unique outputs: 3\n",
      "{'dataset_name': 'allbp',\n",
      " 'dataset_shape': '(1000, 29)',\n",
      " 'models': {'JSAutoML': {'fit_time': 19.577637195587158, 'test_score': 0.948},\n",
      "            'PythonAutoML': {'fit_time': 7.964773178100586,\n",
      "                             'test_score': 0.956}}}\n",
      "Fetching data ...\n",
      "allhyper (3771, 29)\n",
      "Number of unique outputs: 4\n",
      "{'dataset_name': 'allhyper',\n",
      " 'dataset_shape': '(1000, 29)',\n",
      " 'models': {'JSAutoML': {'fit_time': 24.37909722328186, 'test_score': 0.964},\n",
      "            'PythonAutoML': {'fit_time': 5.046960353851318,\n",
      "                             'test_score': 0.984}}}\n",
      "Fetching data ...\n",
      "allhypo (3770, 29)\n",
      "Number of unique outputs: 3\n",
      "{'dataset_name': 'allhypo',\n",
      " 'dataset_shape': '(1000, 29)',\n",
      " 'models': {'JSAutoML': {'fit_time': 40.543556451797485, 'test_score': 0.968},\n",
      "            'PythonAutoML': {'fit_time': 8.96397614479065,\n",
      "                             'test_score': 0.976}}}\n",
      "Fetching data ...\n",
      "allrep (3772, 29)\n",
      "Number of unique outputs: 4\n",
      "{'dataset_name': 'allrep',\n",
      " 'dataset_shape': '(1000, 29)',\n",
      " 'models': {'JSAutoML': {'fit_time': 36.31257081031799, 'test_score': 0.976},\n",
      "            'PythonAutoML': {'fit_time': 7.255163669586182,\n",
      "                             'test_score': 0.988}}}\n",
      "Fetching data ...\n",
      "analcatdata_aids (50, 4)\n",
      "Number of unique outputs: 2\n"
     ]
    },
    {
     "name": "stderr",
     "output_type": "stream",
     "text": [
      "/home/iaroslav/.local/lib/python3.5/site-packages/sklearn/model_selection/_search.py:841: DeprecationWarning: The default of the `iid` parameter will change from True to False in version 0.22 and will be removed in 0.24. This will change numeric results when test-set sizes are unequal.\n",
      "  DeprecationWarning)\n"
     ]
    },
    {
     "name": "stdout",
     "output_type": "stream",
     "text": [
      "{'dataset_name': 'analcatdata_aids',\n",
      " 'dataset_shape': '(50, 4)',\n",
      " 'models': {'JSAutoML': {'fit_time': 0.6195831298828125,\n",
      "                         'test_score': 0.6923076923076923},\n",
      "            'PythonAutoML': {'fit_time': 0.7578012943267822,\n",
      "                             'test_score': 0.7692307692307693}}}\n",
      "Fetching data ...\n",
      "analcatdata_asbestos (83, 3)\n",
      "Number of unique outputs: 2\n"
     ]
    },
    {
     "name": "stderr",
     "output_type": "stream",
     "text": [
      "/home/iaroslav/.local/lib/python3.5/site-packages/sklearn/model_selection/_search.py:841: DeprecationWarning: The default of the `iid` parameter will change from True to False in version 0.22 and will be removed in 0.24. This will change numeric results when test-set sizes are unequal.\n",
      "  DeprecationWarning)\n",
      "/home/iaroslav/.local/lib/python3.5/site-packages/sklearn/linear_model/stochastic_gradient.py:166: FutureWarning: max_iter and tol parameters have been added in SGDClassifier in 0.19. If both are left unset, they default to max_iter=5 and tol=None. If tol is not None, max_iter defaults to max_iter=1000. From 0.21, default max_iter will be 1000, and default tol will be 1e-3.\n",
      "  FutureWarning)\n"
     ]
    },
    {
     "name": "stdout",
     "output_type": "stream",
     "text": [
      "{'dataset_name': 'analcatdata_asbestos',\n",
      " 'dataset_shape': '(83, 3)',\n",
      " 'models': {'JSAutoML': {'fit_time': 0.9189333915710449,\n",
      "                         'test_score': 0.8095238095238095},\n",
      "            'PythonAutoML': {'fit_time': 1.3012211322784424,\n",
      "                             'test_score': 0.8095238095238095}}}\n",
      "Fetching data ...\n",
      "analcatdata_authorship (841, 70)\n",
      "Number of unique outputs: 4\n"
     ]
    },
    {
     "name": "stderr",
     "output_type": "stream",
     "text": [
      "/home/iaroslav/.local/lib/python3.5/site-packages/sklearn/linear_model/stochastic_gradient.py:166: FutureWarning: max_iter and tol parameters have been added in SGDClassifier in 0.19. If both are left unset, they default to max_iter=5 and tol=None. If tol is not None, max_iter defaults to max_iter=1000. From 0.21, default max_iter will be 1000, and default tol will be 1e-3.\n",
      "  FutureWarning)\n"
     ]
    },
    {
     "name": "stdout",
     "output_type": "stream",
     "text": [
      "{'dataset_name': 'analcatdata_authorship',\n",
      " 'dataset_shape': '(841, 70)',\n",
      " 'models': {'JSAutoML': {'fit_time': 110.54728507995605,\n",
      "                         'test_score': 0.9241706161137441},\n",
      "            'PythonAutoML': {'fit_time': 12.90644121170044,\n",
      "                             'test_score': 0.990521327014218}}}\n",
      "Fetching data ...\n",
      "analcatdata_bankruptcy (50, 6)\n",
      "Number of unique outputs: 2\n"
     ]
    },
    {
     "name": "stderr",
     "output_type": "stream",
     "text": [
      "/home/iaroslav/.local/lib/python3.5/site-packages/sklearn/model_selection/_search.py:841: DeprecationWarning: The default of the `iid` parameter will change from True to False in version 0.22 and will be removed in 0.24. This will change numeric results when test-set sizes are unequal.\n",
      "  DeprecationWarning)\n"
     ]
    },
    {
     "name": "stdout",
     "output_type": "stream",
     "text": [
      "{'dataset_name': 'analcatdata_bankruptcy',\n",
      " 'dataset_shape': '(50, 6)',\n",
      " 'models': {'JSAutoML': {'fit_time': 0.521188497543335,\n",
      "                         'test_score': 0.7692307692307693},\n",
      "            'PythonAutoML': {'fit_time': 1.0178298950195312,\n",
      "                             'test_score': 0.7692307692307693}}}\n",
      "Fetching data ...\n",
      "analcatdata_boxing1 (120, 3)\n",
      "Number of unique outputs: 2\n",
      "{'dataset_name': 'analcatdata_boxing1',\n",
      " 'dataset_shape': '(120, 3)',\n",
      " 'models': {'JSAutoML': {'fit_time': 0.9666404724121094,\n",
      "                         'test_score': 0.8333333333333334},\n",
      "            'PythonAutoML': {'fit_time': 0.9489989280700684,\n",
      "                             'test_score': 0.8333333333333334}}}\n",
      "Fetching data ...\n",
      "analcatdata_boxing2 (132, 3)\n",
      "Number of unique outputs: 2\n"
     ]
    },
    {
     "name": "stderr",
     "output_type": "stream",
     "text": [
      "/home/iaroslav/.local/lib/python3.5/site-packages/sklearn/model_selection/_search.py:841: DeprecationWarning: The default of the `iid` parameter will change from True to False in version 0.22 and will be removed in 0.24. This will change numeric results when test-set sizes are unequal.\n",
      "  DeprecationWarning)\n"
     ]
    },
    {
     "name": "stdout",
     "output_type": "stream",
     "text": [
      "{'dataset_name': 'analcatdata_boxing2',\n",
      " 'dataset_shape': '(132, 3)',\n",
      " 'models': {'JSAutoML': {'fit_time': 1.278425693511963,\n",
      "                         'test_score': 0.8181818181818182},\n",
      "            'PythonAutoML': {'fit_time': 1.0393962860107422,\n",
      "                             'test_score': 0.7575757575757576}}}\n",
      "Fetching data ...\n",
      "analcatdata_creditscore (100, 6)\n",
      "Number of unique outputs: 2\n",
      "{'dataset_name': 'analcatdata_creditscore',\n",
      " 'dataset_shape': '(100, 6)',\n",
      " 'models': {'JSAutoML': {'fit_time': 1.4528942108154297, 'test_score': 0.96},\n",
      "            'PythonAutoML': {'fit_time': 0.6871259212493896,\n",
      "                             'test_score': 0.96}}}\n",
      "Fetching data ...\n",
      "analcatdata_cyyoung8092 (97, 10)\n",
      "Number of unique outputs: 2\n"
     ]
    },
    {
     "name": "stderr",
     "output_type": "stream",
     "text": [
      "/home/iaroslav/.local/lib/python3.5/site-packages/sklearn/model_selection/_search.py:841: DeprecationWarning: The default of the `iid` parameter will change from True to False in version 0.22 and will be removed in 0.24. This will change numeric results when test-set sizes are unequal.\n",
      "  DeprecationWarning)\n",
      "/home/iaroslav/.local/lib/python3.5/site-packages/sklearn/linear_model/stochastic_gradient.py:166: FutureWarning: max_iter and tol parameters have been added in SGDClassifier in 0.19. If both are left unset, they default to max_iter=5 and tol=None. If tol is not None, max_iter defaults to max_iter=1000. From 0.21, default max_iter will be 1000, and default tol will be 1e-3.\n",
      "  FutureWarning)\n"
     ]
    },
    {
     "name": "stdout",
     "output_type": "stream",
     "text": [
      "{'dataset_name': 'analcatdata_cyyoung8092',\n",
      " 'dataset_shape': '(97, 10)',\n",
      " 'models': {'JSAutoML': {'fit_time': 0.9120903015136719, 'test_score': 0.72},\n",
      "            'PythonAutoML': {'fit_time': 0.8024451732635498,\n",
      "                             'test_score': 0.72}}}\n",
      "Fetching data ...\n",
      "analcatdata_cyyoung9302 (92, 10)\n",
      "Number of unique outputs: 2\n"
     ]
    },
    {
     "name": "stderr",
     "output_type": "stream",
     "text": [
      "/home/iaroslav/.local/lib/python3.5/site-packages/sklearn/model_selection/_search.py:841: DeprecationWarning: The default of the `iid` parameter will change from True to False in version 0.22 and will be removed in 0.24. This will change numeric results when test-set sizes are unequal.\n",
      "  DeprecationWarning)\n",
      "/home/iaroslav/.local/lib/python3.5/site-packages/sklearn/linear_model/stochastic_gradient.py:166: FutureWarning: max_iter and tol parameters have been added in SGDClassifier in 0.19. If both are left unset, they default to max_iter=5 and tol=None. If tol is not None, max_iter defaults to max_iter=1000. From 0.21, default max_iter will be 1000, and default tol will be 1e-3.\n",
      "  FutureWarning)\n"
     ]
    },
    {
     "name": "stdout",
     "output_type": "stream",
     "text": [
      "{'dataset_name': 'analcatdata_cyyoung9302',\n",
      " 'dataset_shape': '(92, 10)',\n",
      " 'models': {'JSAutoML': {'fit_time': 1.9665262699127197,\n",
      "                         'test_score': 0.7391304347826086},\n",
      "            'PythonAutoML': {'fit_time': 1.2261345386505127,\n",
      "                             'test_score': 0.8260869565217391}}}\n",
      "Fetching data ...\n",
      "analcatdata_dmft (797, 4)\n",
      "Number of unique outputs: 6\n"
     ]
    },
    {
     "name": "stderr",
     "output_type": "stream",
     "text": [
      "/home/iaroslav/.local/lib/python3.5/site-packages/sklearn/model_selection/_search.py:841: DeprecationWarning: The default of the `iid` parameter will change from True to False in version 0.22 and will be removed in 0.24. This will change numeric results when test-set sizes are unequal.\n",
      "  DeprecationWarning)\n"
     ]
    },
    {
     "name": "stdout",
     "output_type": "stream",
     "text": [
      "{'dataset_name': 'analcatdata_dmft',\n",
      " 'dataset_shape': '(797, 4)',\n",
      " 'models': {'JSAutoML': {'fit_time': 13.325934171676636, 'test_score': 0.195},\n",
      "            'PythonAutoML': {'fit_time': 12.382557392120361,\n",
      "                             'test_score': 0.22}}}\n",
      "Fetching data ...\n",
      "analcatdata_fraud (42, 11)\n",
      "Number of unique outputs: 2\n"
     ]
    },
    {
     "name": "stderr",
     "output_type": "stream",
     "text": [
      "/home/iaroslav/.local/lib/python3.5/site-packages/sklearn/model_selection/_search.py:841: DeprecationWarning: The default of the `iid` parameter will change from True to False in version 0.22 and will be removed in 0.24. This will change numeric results when test-set sizes are unequal.\n",
      "  DeprecationWarning)\n"
     ]
    },
    {
     "name": "stdout",
     "output_type": "stream",
     "text": [
      "{'dataset_name': 'analcatdata_fraud',\n",
      " 'dataset_shape': '(42, 11)',\n",
      " 'models': {'JSAutoML': {'fit_time': 1.173424243927002,\n",
      "                         'test_score': 0.5454545454545454},\n",
      "            'PythonAutoML': {'fit_time': 1.0650370121002197,\n",
      "                             'test_score': 0.5454545454545454}}}\n",
      "Fetching data ...\n",
      "analcatdata_germangss (400, 5)\n",
      "Number of unique outputs: 4\n",
      "{'dataset_name': 'analcatdata_germangss',\n",
      " 'dataset_shape': '(400, 5)',\n",
      " 'models': {'JSAutoML': {'fit_time': 2.4123644828796387, 'test_score': 0.42},\n",
      "            'PythonAutoML': {'fit_time': 6.831156969070435,\n",
      "                             'test_score': 0.38}}}\n",
      "Fetching data ...\n",
      "analcatdata_happiness (60, 3)\n",
      "Number of unique outputs: 3\n",
      "{'dataset_name': 'analcatdata_happiness',\n",
      " 'dataset_shape': '(60, 3)',\n",
      " 'models': {'JSAutoML': {'fit_time': 1.0644903182983398,\n",
      "                         'test_score': 0.26666666666666666},\n",
      "            'PythonAutoML': {'fit_time': 4.108750343322754, 'test_score': 0.4}}}\n",
      "Fetching data ...\n",
      "analcatdata_japansolvent (52, 9)\n",
      "Number of unique outputs: 2\n"
     ]
    },
    {
     "name": "stderr",
     "output_type": "stream",
     "text": [
      "/home/iaroslav/.local/lib/python3.5/site-packages/sklearn/model_selection/_search.py:841: DeprecationWarning: The default of the `iid` parameter will change from True to False in version 0.22 and will be removed in 0.24. This will change numeric results when test-set sizes are unequal.\n",
      "  DeprecationWarning)\n",
      "/home/iaroslav/.local/lib/python3.5/site-packages/sklearn/linear_model/stochastic_gradient.py:166: FutureWarning: max_iter and tol parameters have been added in SGDClassifier in 0.19. If both are left unset, they default to max_iter=5 and tol=None. If tol is not None, max_iter defaults to max_iter=1000. From 0.21, default max_iter will be 1000, and default tol will be 1e-3.\n",
      "  FutureWarning)\n"
     ]
    },
    {
     "name": "stdout",
     "output_type": "stream",
     "text": [
      "{'dataset_name': 'analcatdata_japansolvent',\n",
      " 'dataset_shape': '(52, 9)',\n",
      " 'models': {'JSAutoML': {'fit_time': 1.1973800659179688,\n",
      "                         'test_score': 0.8461538461538461},\n",
      "            'PythonAutoML': {'fit_time': 1.1335203647613525,\n",
      "                             'test_score': 0.7692307692307693}}}\n",
      "Fetching data ...\n",
      "analcatdata_lawsuit (264, 4)\n",
      "Number of unique outputs: 2\n"
     ]
    },
    {
     "name": "stderr",
     "output_type": "stream",
     "text": [
      "/home/iaroslav/.local/lib/python3.5/site-packages/sklearn/model_selection/_search.py:841: DeprecationWarning: The default of the `iid` parameter will change from True to False in version 0.22 and will be removed in 0.24. This will change numeric results when test-set sizes are unequal.\n",
      "  DeprecationWarning)\n"
     ]
    },
    {
     "name": "stdout",
     "output_type": "stream",
     "text": [
      "{'dataset_name': 'analcatdata_lawsuit',\n",
      " 'dataset_shape': '(264, 4)',\n",
      " 'models': {'JSAutoML': {'fit_time': 2.094921588897705, 'test_score': 1.0},\n",
      "            'PythonAutoML': {'fit_time': 1.2186839580535889,\n",
      "                             'test_score': 0.9545454545454546}}}\n",
      "Fetching data ...\n",
      "ann-thyroid (7200, 21)\n",
      "Number of unique outputs: 3\n",
      "{'dataset_name': 'ann-thyroid',\n",
      " 'dataset_shape': '(1000, 21)',\n",
      " 'models': {'JSAutoML': {'fit_time': 10.86182165145874, 'test_score': 0.996},\n",
      "            'PythonAutoML': {'fit_time': 5.726082801818848,\n",
      "                             'test_score': 0.992}}}\n",
      "Fetching data ...\n",
      "appendicitis (106, 7)\n",
      "Number of unique outputs: 2\n"
     ]
    },
    {
     "name": "stderr",
     "output_type": "stream",
     "text": [
      "/home/iaroslav/.local/lib/python3.5/site-packages/sklearn/model_selection/_search.py:841: DeprecationWarning: The default of the `iid` parameter will change from True to False in version 0.22 and will be removed in 0.24. This will change numeric results when test-set sizes are unequal.\n",
      "  DeprecationWarning)\n",
      "/home/iaroslav/.local/lib/python3.5/site-packages/sklearn/linear_model/stochastic_gradient.py:166: FutureWarning: max_iter and tol parameters have been added in SGDClassifier in 0.19. If both are left unset, they default to max_iter=5 and tol=None. If tol is not None, max_iter defaults to max_iter=1000. From 0.21, default max_iter will be 1000, and default tol will be 1e-3.\n",
      "  FutureWarning)\n"
     ]
    },
    {
     "name": "stdout",
     "output_type": "stream",
     "text": [
      "{'dataset_name': 'appendicitis',\n",
      " 'dataset_shape': '(106, 7)',\n",
      " 'models': {'JSAutoML': {'fit_time': 1.5671474933624268,\n",
      "                         'test_score': 0.7407407407407407},\n",
      "            'PythonAutoML': {'fit_time': 0.9716603755950928,\n",
      "                             'test_score': 0.8888888888888888}}}\n",
      "Fetching data ...\n",
      "australian (690, 14)\n",
      "Number of unique outputs: 2\n"
     ]
    },
    {
     "name": "stderr",
     "output_type": "stream",
     "text": [
      "/home/iaroslav/.local/lib/python3.5/site-packages/sklearn/model_selection/_search.py:841: DeprecationWarning: The default of the `iid` parameter will change from True to False in version 0.22 and will be removed in 0.24. This will change numeric results when test-set sizes are unequal.\n",
      "  DeprecationWarning)\n",
      "/home/iaroslav/.local/lib/python3.5/site-packages/sklearn/linear_model/stochastic_gradient.py:166: FutureWarning: max_iter and tol parameters have been added in SGDClassifier in 0.19. If both are left unset, they default to max_iter=5 and tol=None. If tol is not None, max_iter defaults to max_iter=1000. From 0.21, default max_iter will be 1000, and default tol will be 1e-3.\n",
      "  FutureWarning)\n"
     ]
    },
    {
     "name": "stdout",
     "output_type": "stream",
     "text": [
      "{'dataset_name': 'australian',\n",
      " 'dataset_shape': '(690, 14)',\n",
      " 'models': {'JSAutoML': {'fit_time': 13.641589164733887,\n",
      "                         'test_score': 0.8323699421965318},\n",
      "            'PythonAutoML': {'fit_time': 1.4155173301696777,\n",
      "                             'test_score': 0.8554913294797688}}}\n",
      "Fetching data ...\n",
      "auto (202, 25)\n",
      "Number of unique outputs: 5\n"
     ]
    },
    {
     "name": "stderr",
     "output_type": "stream",
     "text": [
      "/home/iaroslav/.local/lib/python3.5/site-packages/sklearn/model_selection/_search.py:841: DeprecationWarning: The default of the `iid` parameter will change from True to False in version 0.22 and will be removed in 0.24. This will change numeric results when test-set sizes are unequal.\n",
      "  DeprecationWarning)\n"
     ]
    },
    {
     "name": "stdout",
     "output_type": "stream",
     "text": [
      "{'dataset_name': 'auto',\n",
      " 'dataset_shape': '(202, 25)',\n",
      " 'models': {'JSAutoML': {'fit_time': 11.577641487121582,\n",
      "                         'test_score': 0.803921568627451},\n",
      "            'PythonAutoML': {'fit_time': 9.585634708404541,\n",
      "                             'test_score': 0.7647058823529411}}}\n",
      "Fetching data ...\n",
      "backache (180, 32)\n",
      "Number of unique outputs: 2\n"
     ]
    },
    {
     "name": "stderr",
     "output_type": "stream",
     "text": [
      "/home/iaroslav/.local/lib/python3.5/site-packages/sklearn/linear_model/stochastic_gradient.py:166: FutureWarning: max_iter and tol parameters have been added in SGDClassifier in 0.19. If both are left unset, they default to max_iter=5 and tol=None. If tol is not None, max_iter defaults to max_iter=1000. From 0.21, default max_iter will be 1000, and default tol will be 1e-3.\n",
      "  FutureWarning)\n"
     ]
    },
    {
     "name": "stdout",
     "output_type": "stream",
     "text": [
      "{'dataset_name': 'backache',\n",
      " 'dataset_shape': '(180, 32)',\n",
      " 'models': {'JSAutoML': {'fit_time': 2.895148992538452,\n",
      "                         'test_score': 0.9111111111111111},\n",
      "            'PythonAutoML': {'fit_time': 1.1964397430419922,\n",
      "                             'test_score': 0.9111111111111111}}}\n",
      "Fetching data ...\n",
      "balance-scale (625, 4)\n",
      "Number of unique outputs: 3\n"
     ]
    },
    {
     "name": "stderr",
     "output_type": "stream",
     "text": [
      "/home/iaroslav/.local/lib/python3.5/site-packages/sklearn/model_selection/_search.py:841: DeprecationWarning: The default of the `iid` parameter will change from True to False in version 0.22 and will be removed in 0.24. This will change numeric results when test-set sizes are unequal.\n",
      "  DeprecationWarning)\n",
      "/home/iaroslav/.local/lib/python3.5/site-packages/sklearn/linear_model/stochastic_gradient.py:166: FutureWarning: max_iter and tol parameters have been added in SGDClassifier in 0.19. If both are left unset, they default to max_iter=5 and tol=None. If tol is not None, max_iter defaults to max_iter=1000. From 0.21, default max_iter will be 1000, and default tol will be 1e-3.\n",
      "  FutureWarning)\n"
     ]
    },
    {
     "name": "stdout",
     "output_type": "stream",
     "text": [
      "{'dataset_name': 'balance-scale',\n",
      " 'dataset_shape': '(625, 4)',\n",
      " 'models': {'JSAutoML': {'fit_time': 5.179350137710571,\n",
      "                         'test_score': 0.9363057324840764},\n",
      "            'PythonAutoML': {'fit_time': 3.1090168952941895,\n",
      "                             'test_score': 0.8853503184713376}}}\n",
      "Fetching data ...\n",
      "banana (5300, 2)\n",
      "Number of unique outputs: 2\n",
      "{'dataset_name': 'banana',\n",
      " 'dataset_shape': '(1000, 2)',\n",
      " 'models': {'JSAutoML': {'fit_time': 6.88211989402771, 'test_score': 0.848},\n",
      "            'PythonAutoML': {'fit_time': 1.8048195838928223,\n",
      "                             'test_score': 0.848}}}\n",
      "Fetching data ...\n",
      "biomed (209, 8)\n",
      "Number of unique outputs: 2\n"
     ]
    },
    {
     "name": "stderr",
     "output_type": "stream",
     "text": [
      "/home/iaroslav/.local/lib/python3.5/site-packages/sklearn/model_selection/_search.py:841: DeprecationWarning: The default of the `iid` parameter will change from True to False in version 0.22 and will be removed in 0.24. This will change numeric results when test-set sizes are unequal.\n",
      "  DeprecationWarning)\n"
     ]
    },
    {
     "name": "stdout",
     "output_type": "stream",
     "text": [
      "{'dataset_name': 'biomed',\n",
      " 'dataset_shape': '(209, 8)',\n",
      " 'models': {'JSAutoML': {'fit_time': 1.3686633110046387,\n",
      "                         'test_score': 0.8490566037735849},\n",
      "            'PythonAutoML': {'fit_time': 1.377838373184204,\n",
      "                             'test_score': 0.9433962264150944}}}\n",
      "Fetching data ...\n",
      "breast (699, 10)\n",
      "Number of unique outputs: 2\n"
     ]
    },
    {
     "name": "stderr",
     "output_type": "stream",
     "text": [
      "/home/iaroslav/.local/lib/python3.5/site-packages/sklearn/model_selection/_search.py:841: DeprecationWarning: The default of the `iid` parameter will change from True to False in version 0.22 and will be removed in 0.24. This will change numeric results when test-set sizes are unequal.\n",
      "  DeprecationWarning)\n"
     ]
    },
    {
     "name": "stdout",
     "output_type": "stream",
     "text": [
      "{'dataset_name': 'breast',\n",
      " 'dataset_shape': '(699, 10)',\n",
      " 'models': {'JSAutoML': {'fit_time': 6.781944036483765,\n",
      "                         'test_score': 0.9085714285714286},\n",
      "            'PythonAutoML': {'fit_time': 1.9549858570098877,\n",
      "                             'test_score': 0.9371428571428572}}}\n",
      "Fetching data ...\n",
      "breast-cancer (286, 9)\n",
      "Number of unique outputs: 2\n"
     ]
    },
    {
     "name": "stderr",
     "output_type": "stream",
     "text": [
      "/home/iaroslav/.local/lib/python3.5/site-packages/sklearn/model_selection/_search.py:841: DeprecationWarning: The default of the `iid` parameter will change from True to False in version 0.22 and will be removed in 0.24. This will change numeric results when test-set sizes are unequal.\n",
      "  DeprecationWarning)\n",
      "/home/iaroslav/.local/lib/python3.5/site-packages/sklearn/linear_model/stochastic_gradient.py:166: FutureWarning: max_iter and tol parameters have been added in SGDClassifier in 0.19. If both are left unset, they default to max_iter=5 and tol=None. If tol is not None, max_iter defaults to max_iter=1000. From 0.21, default max_iter will be 1000, and default tol will be 1e-3.\n",
      "  FutureWarning)\n"
     ]
    },
    {
     "name": "stdout",
     "output_type": "stream",
     "text": [
      "{'dataset_name': 'breast-cancer',\n",
      " 'dataset_shape': '(286, 9)',\n",
      " 'models': {'JSAutoML': {'fit_time': 1.90910005569458, 'test_score': 0.625},\n",
      "            'PythonAutoML': {'fit_time': 1.4875333309173584,\n",
      "                             'test_score': 0.7083333333333334}}}\n",
      "Fetching data ...\n",
      "breast-cancer-wisconsin (569, 30)\n",
      "Number of unique outputs: 2\n"
     ]
    },
    {
     "name": "stderr",
     "output_type": "stream",
     "text": [
      "/home/iaroslav/.local/lib/python3.5/site-packages/sklearn/model_selection/_search.py:841: DeprecationWarning: The default of the `iid` parameter will change from True to False in version 0.22 and will be removed in 0.24. This will change numeric results when test-set sizes are unequal.\n",
      "  DeprecationWarning)\n",
      "/home/iaroslav/.local/lib/python3.5/site-packages/sklearn/linear_model/stochastic_gradient.py:166: FutureWarning: max_iter and tol parameters have been added in SGDClassifier in 0.19. If both are left unset, they default to max_iter=5 and tol=None. If tol is not None, max_iter defaults to max_iter=1000. From 0.21, default max_iter will be 1000, and default tol will be 1e-3.\n",
      "  FutureWarning)\n"
     ]
    },
    {
     "name": "stdout",
     "output_type": "stream",
     "text": [
      "{'dataset_name': 'breast-cancer-wisconsin',\n",
      " 'dataset_shape': '(569, 30)',\n",
      " 'models': {'JSAutoML': {'fit_time': 14.281861782073975,\n",
      "                         'test_score': 0.965034965034965},\n",
      "            'PythonAutoML': {'fit_time': 3.6919984817504883,\n",
      "                             'test_score': 0.958041958041958}}}\n",
      "Fetching data ...\n",
      "breast-w (699, 9)\n",
      "Number of unique outputs: 2\n"
     ]
    },
    {
     "name": "stderr",
     "output_type": "stream",
     "text": [
      "/home/iaroslav/.local/lib/python3.5/site-packages/sklearn/model_selection/_search.py:841: DeprecationWarning: The default of the `iid` parameter will change from True to False in version 0.22 and will be removed in 0.24. This will change numeric results when test-set sizes are unequal.\n",
      "  DeprecationWarning)\n",
      "/home/iaroslav/.local/lib/python3.5/site-packages/sklearn/linear_model/stochastic_gradient.py:166: FutureWarning: max_iter and tol parameters have been added in SGDClassifier in 0.19. If both are left unset, they default to max_iter=5 and tol=None. If tol is not None, max_iter defaults to max_iter=1000. From 0.21, default max_iter will be 1000, and default tol will be 1e-3.\n",
      "  FutureWarning)\n"
     ]
    },
    {
     "name": "stdout",
     "output_type": "stream",
     "text": [
      "{'dataset_name': 'breast-w',\n",
      " 'dataset_shape': '(699, 9)',\n",
      " 'models': {'JSAutoML': {'fit_time': 6.1178178787231445,\n",
      "                         'test_score': 0.9314285714285714},\n",
      "            'PythonAutoML': {'fit_time': 2.0855021476745605,\n",
      "                             'test_score': 0.9485714285714286}}}\n",
      "Fetching data ...\n",
      "buggyCrx (690, 15)\n",
      "Number of unique outputs: 2\n"
     ]
    },
    {
     "name": "stderr",
     "output_type": "stream",
     "text": [
      "/home/iaroslav/.local/lib/python3.5/site-packages/sklearn/model_selection/_search.py:841: DeprecationWarning: The default of the `iid` parameter will change from True to False in version 0.22 and will be removed in 0.24. This will change numeric results when test-set sizes are unequal.\n",
      "  DeprecationWarning)\n",
      "/home/iaroslav/.local/lib/python3.5/site-packages/sklearn/linear_model/stochastic_gradient.py:166: FutureWarning: max_iter and tol parameters have been added in SGDClassifier in 0.19. If both are left unset, they default to max_iter=5 and tol=None. If tol is not None, max_iter defaults to max_iter=1000. From 0.21, default max_iter will be 1000, and default tol will be 1e-3.\n",
      "  FutureWarning)\n"
     ]
    },
    {
     "name": "stdout",
     "output_type": "stream",
     "text": [
      "{'dataset_name': 'buggyCrx',\n",
      " 'dataset_shape': '(690, 15)',\n",
      " 'models': {'JSAutoML': {'fit_time': 11.77521014213562,\n",
      "                         'test_score': 0.8497109826589595},\n",
      "            'PythonAutoML': {'fit_time': 1.9679162502288818,\n",
      "                             'test_score': 0.8728323699421965}}}\n",
      "Fetching data ...\n",
      "bupa (345, 6)\n",
      "Number of unique outputs: 2\n"
     ]
    },
    {
     "name": "stderr",
     "output_type": "stream",
     "text": [
      "/home/iaroslav/.local/lib/python3.5/site-packages/sklearn/model_selection/_search.py:841: DeprecationWarning: The default of the `iid` parameter will change from True to False in version 0.22 and will be removed in 0.24. This will change numeric results when test-set sizes are unequal.\n",
      "  DeprecationWarning)\n"
     ]
    },
    {
     "name": "stdout",
     "output_type": "stream",
     "text": [
      "{'dataset_name': 'bupa',\n",
      " 'dataset_shape': '(345, 6)',\n",
      " 'models': {'JSAutoML': {'fit_time': 4.297630071640015,\n",
      "                         'test_score': 0.7011494252873564},\n",
      "            'PythonAutoML': {'fit_time': 1.2127041816711426,\n",
      "                             'test_score': 0.6896551724137931}}}\n",
      "Fetching data ...\n",
      "calendarDOW (399, 32)\n",
      "Number of unique outputs: 5\n"
     ]
    },
    {
     "name": "stderr",
     "output_type": "stream",
     "text": [
      "/home/iaroslav/.local/lib/python3.5/site-packages/sklearn/model_selection/_search.py:841: DeprecationWarning: The default of the `iid` parameter will change from True to False in version 0.22 and will be removed in 0.24. This will change numeric results when test-set sizes are unequal.\n",
      "  DeprecationWarning)\n"
     ]
    },
    {
     "name": "stdout",
     "output_type": "stream",
     "text": [
      "{'dataset_name': 'calendarDOW',\n",
      " 'dataset_shape': '(399, 32)',\n",
      " 'models': {'JSAutoML': {'fit_time': 21.819907426834106, 'test_score': 0.6},\n",
      "            'PythonAutoML': {'fit_time': 6.136724948883057,\n",
      "                             'test_score': 0.68}}}\n",
      "Fetching data ...\n",
      "car (1728, 6)\n",
      "Number of unique outputs: 4\n",
      "{'dataset_name': 'car',\n",
      " 'dataset_shape': '(1000, 6)',\n",
      " 'models': {'JSAutoML': {'fit_time': 4.496461629867554, 'test_score': 0.936},\n",
      "            'PythonAutoML': {'fit_time': 4.998572826385498,\n",
      "                             'test_score': 0.976}}}\n",
      "Fetching data ...\n",
      "car-evaluation (1728, 21)\n",
      "Number of unique outputs: 2\n",
      "{'dataset_name': 'car-evaluation',\n",
      " 'dataset_shape': '(1000, 21)',\n",
      " 'models': {'JSAutoML': {'fit_time': 4.55255651473999, 'test_score': 0.984},\n",
      "            'PythonAutoML': {'fit_time': 3.0036003589630127,\n",
      "                             'test_score': 0.976}}}\n",
      "Fetching data ...\n",
      "cars (392, 8)\n",
      "Number of unique outputs: 3\n"
     ]
    },
    {
     "name": "stderr",
     "output_type": "stream",
     "text": [
      "/home/iaroslav/.local/lib/python3.5/site-packages/sklearn/model_selection/_search.py:841: DeprecationWarning: The default of the `iid` parameter will change from True to False in version 0.22 and will be removed in 0.24. This will change numeric results when test-set sizes are unequal.\n",
      "  DeprecationWarning)\n"
     ]
    },
    {
     "name": "stdout",
     "output_type": "stream",
     "text": [
      "{'dataset_name': 'cars',\n",
      " 'dataset_shape': '(392, 8)',\n",
      " 'models': {'JSAutoML': {'fit_time': 4.581427097320557,\n",
      "                         'test_score': 0.9387755102040817},\n",
      "            'PythonAutoML': {'fit_time': 5.638764381408691,\n",
      "                             'test_score': 0.9693877551020408}}}\n",
      "Fetching data ...\n",
      "cars1 (392, 7)\n",
      "Number of unique outputs: 3\n"
     ]
    },
    {
     "name": "stderr",
     "output_type": "stream",
     "text": [
      "/home/iaroslav/.local/lib/python3.5/site-packages/sklearn/model_selection/_search.py:841: DeprecationWarning: The default of the `iid` parameter will change from True to False in version 0.22 and will be removed in 0.24. This will change numeric results when test-set sizes are unequal.\n",
      "  DeprecationWarning)\n"
     ]
    },
    {
     "name": "stdout",
     "output_type": "stream",
     "text": [
      "{'dataset_name': 'cars1',\n",
      " 'dataset_shape': '(392, 7)',\n",
      " 'models': {'JSAutoML': {'fit_time': 4.514655590057373,\n",
      "                         'test_score': 0.7755102040816326},\n",
      "            'PythonAutoML': {'fit_time': 4.7184813022613525,\n",
      "                             'test_score': 0.8571428571428571}}}\n",
      "Fetching data ...\n",
      "chess (3196, 36)\n",
      "Number of unique outputs: 2\n",
      "{'dataset_name': 'chess',\n",
      " 'dataset_shape': '(1000, 36)',\n",
      " 'models': {'JSAutoML': {'fit_time': 12.99459457397461, 'test_score': 0.98},\n",
      "            'PythonAutoML': {'fit_time': 3.9724068641662598,\n",
      "                             'test_score': 0.98}}}\n",
      "Fetching data ...\n",
      "churn (5000, 20)\n",
      "Number of unique outputs: 2\n",
      "{'dataset_name': 'churn',\n",
      " 'dataset_shape': '(1000, 20)',\n",
      " 'models': {'JSAutoML': {'fit_time': 19.59358787536621, 'test_score': 0.88},\n",
      "            'PythonAutoML': {'fit_time': 4.25017523765564,\n",
      "                             'test_score': 0.944}}}\n",
      "Fetching data ...\n",
      "clean1 (476, 168)\n",
      "Number of unique outputs: 2\n"
     ]
    },
    {
     "name": "stderr",
     "output_type": "stream",
     "text": [
      "/home/iaroslav/.local/lib/python3.5/site-packages/sklearn/model_selection/_search.py:841: DeprecationWarning: The default of the `iid` parameter will change from True to False in version 0.22 and will be removed in 0.24. This will change numeric results when test-set sizes are unequal.\n",
      "  DeprecationWarning)\n"
     ]
    },
    {
     "name": "stdout",
     "output_type": "stream",
     "text": [
      "{'dataset_name': 'clean1',\n",
      " 'dataset_shape': '(476, 168)',\n",
      " 'models': {'JSAutoML': {'fit_time': 60.975563764572144, 'test_score': 1.0},\n",
      "            'PythonAutoML': {'fit_time': 3.5402605533599854,\n",
      "                             'test_score': 1.0}}}\n",
      "Fetching data ...\n",
      "clean2 (6598, 168)\n",
      "Fetching data ...\n",
      "cleve (303, 13)\n",
      "Number of unique outputs: 2\n"
     ]
    },
    {
     "name": "stderr",
     "output_type": "stream",
     "text": [
      "/home/iaroslav/.local/lib/python3.5/site-packages/sklearn/model_selection/_search.py:841: DeprecationWarning: The default of the `iid` parameter will change from True to False in version 0.22 and will be removed in 0.24. This will change numeric results when test-set sizes are unequal.\n",
      "  DeprecationWarning)\n"
     ]
    },
    {
     "name": "stdout",
     "output_type": "stream",
     "text": [
      "{'dataset_name': 'cleve',\n",
      " 'dataset_shape': '(303, 13)',\n",
      " 'models': {'JSAutoML': {'fit_time': 5.841833114624023,\n",
      "                         'test_score': 0.7368421052631579},\n",
      "            'PythonAutoML': {'fit_time': 1.6716499328613281,\n",
      "                             'test_score': 0.7763157894736842}}}\n",
      "Fetching data ...\n",
      "cleveland (303, 13)\n",
      "Number of unique outputs: 5\n"
     ]
    },
    {
     "name": "stderr",
     "output_type": "stream",
     "text": [
      "/home/iaroslav/.local/lib/python3.5/site-packages/sklearn/model_selection/_search.py:841: DeprecationWarning: The default of the `iid` parameter will change from True to False in version 0.22 and will be removed in 0.24. This will change numeric results when test-set sizes are unequal.\n",
      "  DeprecationWarning)\n",
      "/home/iaroslav/.local/lib/python3.5/site-packages/sklearn/linear_model/stochastic_gradient.py:166: FutureWarning: max_iter and tol parameters have been added in SGDClassifier in 0.19. If both are left unset, they default to max_iter=5 and tol=None. If tol is not None, max_iter defaults to max_iter=1000. From 0.21, default max_iter will be 1000, and default tol will be 1e-3.\n",
      "  FutureWarning)\n"
     ]
    },
    {
     "name": "stdout",
     "output_type": "stream",
     "text": [
      "{'dataset_name': 'cleveland',\n",
      " 'dataset_shape': '(303, 13)',\n",
      " 'models': {'JSAutoML': {'fit_time': 13.227224349975586,\n",
      "                         'test_score': 0.4605263157894737},\n",
      "            'PythonAutoML': {'fit_time': 5.5156073570251465,\n",
      "                             'test_score': 0.4605263157894737}}}\n",
      "Fetching data ...\n",
      "cleveland-nominal (303, 7)\n",
      "Number of unique outputs: 5\n"
     ]
    },
    {
     "name": "stderr",
     "output_type": "stream",
     "text": [
      "/home/iaroslav/.local/lib/python3.5/site-packages/sklearn/model_selection/_search.py:841: DeprecationWarning: The default of the `iid` parameter will change from True to False in version 0.22 and will be removed in 0.24. This will change numeric results when test-set sizes are unequal.\n",
      "  DeprecationWarning)\n",
      "/home/iaroslav/.local/lib/python3.5/site-packages/sklearn/linear_model/stochastic_gradient.py:166: FutureWarning: max_iter and tol parameters have been added in SGDClassifier in 0.19. If both are left unset, they default to max_iter=5 and tol=None. If tol is not None, max_iter defaults to max_iter=1000. From 0.21, default max_iter will be 1000, and default tol will be 1e-3.\n",
      "  FutureWarning)\n"
     ]
    },
    {
     "name": "stdout",
     "output_type": "stream",
     "text": [
      "{'dataset_name': 'cleveland-nominal',\n",
      " 'dataset_shape': '(303, 7)',\n",
      " 'models': {'JSAutoML': {'fit_time': 2.924699544906616,\n",
      "                         'test_score': 0.5526315789473685},\n",
      "            'PythonAutoML': {'fit_time': 7.660253286361694,\n",
      "                             'test_score': 0.5657894736842105}}}\n",
      "Fetching data ...\n",
      "cloud (108, 7)\n",
      "Number of unique outputs: 4\n"
     ]
    },
    {
     "name": "stderr",
     "output_type": "stream",
     "text": [
      "/home/iaroslav/.local/lib/python3.5/site-packages/sklearn/model_selection/_search.py:841: DeprecationWarning: The default of the `iid` parameter will change from True to False in version 0.22 and will be removed in 0.24. This will change numeric results when test-set sizes are unequal.\n",
      "  DeprecationWarning)\n"
     ]
    },
    {
     "name": "stdout",
     "output_type": "stream",
     "text": [
      "{'dataset_name': 'cloud',\n",
      " 'dataset_shape': '(108, 7)',\n",
      " 'models': {'JSAutoML': {'fit_time': 4.155160427093506,\n",
      "                         'test_score': 0.7407407407407407},\n",
      "            'PythonAutoML': {'fit_time': 5.5074098110198975,\n",
      "                             'test_score': 0.8888888888888888}}}\n",
      "Fetching data ...\n",
      "cmc (1473, 9)\n",
      "Number of unique outputs: 3\n",
      "{'dataset_name': 'cmc',\n",
      " 'dataset_shape': '(1000, 9)',\n",
      " 'models': {'JSAutoML': {'fit_time': 11.464516401290894, 'test_score': 0.564},\n",
      "            'PythonAutoML': {'fit_time': 7.449482679367065,\n",
      "                             'test_score': 0.54}}}\n",
      "Fetching data ...\n",
      "coil2000 (9822, 85)\n",
      "Number of unique outputs: 2\n"
     ]
    },
    {
     "name": "stderr",
     "output_type": "stream",
     "text": [
      "/home/iaroslav/.local/lib/python3.5/site-packages/sklearn/linear_model/stochastic_gradient.py:166: FutureWarning: max_iter and tol parameters have been added in SGDClassifier in 0.19. If both are left unset, they default to max_iter=5 and tol=None. If tol is not None, max_iter defaults to max_iter=1000. From 0.21, default max_iter will be 1000, and default tol will be 1e-3.\n",
      "  FutureWarning)\n"
     ]
    },
    {
     "name": "stdout",
     "output_type": "stream",
     "text": [
      "{'dataset_name': 'coil2000',\n",
      " 'dataset_shape': '(1000, 85)',\n",
      " 'models': {'JSAutoML': {'fit_time': 28.1710786819458, 'test_score': 0.96},\n",
      "            'PythonAutoML': {'fit_time': 5.51259446144104, 'test_score': 0.96}}}\n",
      "Fetching data ...\n",
      "colic (368, 22)\n",
      "Number of unique outputs: 2\n"
     ]
    },
    {
     "name": "stderr",
     "output_type": "stream",
     "text": [
      "/home/iaroslav/.local/lib/python3.5/site-packages/sklearn/model_selection/_search.py:841: DeprecationWarning: The default of the `iid` parameter will change from True to False in version 0.22 and will be removed in 0.24. This will change numeric results when test-set sizes are unequal.\n",
      "  DeprecationWarning)\n"
     ]
    },
    {
     "name": "stdout",
     "output_type": "stream",
     "text": [
      "{'dataset_name': 'colic',\n",
      " 'dataset_shape': '(368, 22)',\n",
      " 'models': {'JSAutoML': {'fit_time': 6.508732557296753,\n",
      "                         'test_score': 0.8043478260869565},\n",
      "            'PythonAutoML': {'fit_time': 2.0667824745178223,\n",
      "                             'test_score': 0.8369565217391305}}}\n",
      "Fetching data ...\n",
      "collins (485, 23)\n",
      "Number of unique outputs: 13\n"
     ]
    },
    {
     "name": "stderr",
     "output_type": "stream",
     "text": [
      "/home/iaroslav/.local/lib/python3.5/site-packages/sklearn/model_selection/_search.py:841: DeprecationWarning: The default of the `iid` parameter will change from True to False in version 0.22 and will be removed in 0.24. This will change numeric results when test-set sizes are unequal.\n",
      "  DeprecationWarning)\n"
     ]
    },
    {
     "name": "stdout",
     "output_type": "stream",
     "text": [
      "{'dataset_name': 'collins',\n",
      " 'dataset_shape': '(485, 23)',\n",
      " 'models': {'JSAutoML': {'fit_time': 33.42069363594055,\n",
      "                         'test_score': 0.9754098360655737},\n",
      "            'PythonAutoML': {'fit_time': 26.998748302459717,\n",
      "                             'test_score': 0.9836065573770492}}}\n",
      "Fetching data ...\n",
      "confidence (72, 3)\n",
      "Number of unique outputs: 6\n"
     ]
    },
    {
     "name": "stderr",
     "output_type": "stream",
     "text": [
      "/home/iaroslav/.local/lib/python3.5/site-packages/sklearn/model_selection/_search.py:841: DeprecationWarning: The default of the `iid` parameter will change from True to False in version 0.22 and will be removed in 0.24. This will change numeric results when test-set sizes are unequal.\n",
      "  DeprecationWarning)\n"
     ]
    },
    {
     "name": "stdout",
     "output_type": "stream",
     "text": [
      "{'dataset_name': 'confidence',\n",
      " 'dataset_shape': '(72, 3)',\n",
      " 'models': {'JSAutoML': {'fit_time': 1.977482795715332,\n",
      "                         'test_score': 0.8333333333333334},\n",
      "            'PythonAutoML': {'fit_time': 6.844534158706665,\n",
      "                             'test_score': 0.7777777777777778}}}\n",
      "Fetching data ...\n",
      "connect-4 (67557, 42)\n",
      "Number of unique outputs: 3\n",
      "{'dataset_name': 'connect-4',\n",
      " 'dataset_shape': '(1000, 42)',\n",
      " 'models': {'JSAutoML': {'fit_time': 20.010607719421387, 'test_score': 0.764},\n",
      "            'PythonAutoML': {'fit_time': 7.295705556869507, 'test_score': 0.8}}}\n",
      "Fetching data ...\n",
      "contraceptive (1473, 9)\n",
      "Number of unique outputs: 3\n",
      "{'dataset_name': 'contraceptive',\n",
      " 'dataset_shape': '(1000, 9)',\n",
      " 'models': {'JSAutoML': {'fit_time': 18.47626280784607, 'test_score': 0.532},\n",
      "            'PythonAutoML': {'fit_time': 4.460080146789551, 'test_score': 0.5}}}\n",
      "Fetching data ...\n",
      "corral (160, 6)\n",
      "Number of unique outputs: 2\n",
      "{'dataset_name': 'corral',\n",
      " 'dataset_shape': '(160, 6)',\n",
      " 'models': {'JSAutoML': {'fit_time': 1.4224767684936523, 'test_score': 0.95},\n",
      "            'PythonAutoML': {'fit_time': 1.3466241359710693,\n",
      "                             'test_score': 0.95}}}\n",
      "Fetching data ...\n",
      "credit-a (690, 15)\n",
      "Number of unique outputs: 2\n"
     ]
    },
    {
     "name": "stderr",
     "output_type": "stream",
     "text": [
      "/home/iaroslav/.local/lib/python3.5/site-packages/sklearn/model_selection/_search.py:841: DeprecationWarning: The default of the `iid` parameter will change from True to False in version 0.22 and will be removed in 0.24. This will change numeric results when test-set sizes are unequal.\n",
      "  DeprecationWarning)\n"
     ]
    },
    {
     "name": "stdout",
     "output_type": "stream",
     "text": [
      "{'dataset_name': 'credit-a',\n",
      " 'dataset_shape': '(690, 15)',\n",
      " 'models': {'JSAutoML': {'fit_time': 13.380404472351074,\n",
      "                         'test_score': 0.838150289017341},\n",
      "            'PythonAutoML': {'fit_time': 2.579925060272217,\n",
      "                             'test_score': 0.8554913294797688}}}\n",
      "Fetching data ...\n",
      "credit-g (1000, 20)\n",
      "Number of unique outputs: 2\n",
      "{'dataset_name': 'credit-g',\n",
      " 'dataset_shape': '(1000, 20)',\n",
      " 'models': {'JSAutoML': {'fit_time': 17.407044887542725, 'test_score': 0.708},\n",
      "            'PythonAutoML': {'fit_time': 3.3545258045196533,\n",
      "                             'test_score': 0.804}}}\n",
      "Fetching data ...\n",
      "crx (690, 15)\n",
      "Number of unique outputs: 2\n"
     ]
    },
    {
     "name": "stderr",
     "output_type": "stream",
     "text": [
      "/home/iaroslav/.local/lib/python3.5/site-packages/sklearn/model_selection/_search.py:841: DeprecationWarning: The default of the `iid` parameter will change from True to False in version 0.22 and will be removed in 0.24. This will change numeric results when test-set sizes are unequal.\n",
      "  DeprecationWarning)\n",
      "/home/iaroslav/.local/lib/python3.5/site-packages/sklearn/linear_model/stochastic_gradient.py:166: FutureWarning: max_iter and tol parameters have been added in SGDClassifier in 0.19. If both are left unset, they default to max_iter=5 and tol=None. If tol is not None, max_iter defaults to max_iter=1000. From 0.21, default max_iter will be 1000, and default tol will be 1e-3.\n",
      "  FutureWarning)\n"
     ]
    },
    {
     "name": "stdout",
     "output_type": "stream",
     "text": [
      "{'dataset_name': 'crx',\n",
      " 'dataset_shape': '(690, 15)',\n",
      " 'models': {'JSAutoML': {'fit_time': 16.759763717651367,\n",
      "                         'test_score': 0.8439306358381503},\n",
      "            'PythonAutoML': {'fit_time': 1.9374983310699463,\n",
      "                             'test_score': 0.8670520231213873}}}\n",
      "Fetching data ...\n",
      "dermatology (366, 34)\n",
      "Number of unique outputs: 6\n"
     ]
    },
    {
     "name": "stderr",
     "output_type": "stream",
     "text": [
      "/home/iaroslav/.local/lib/python3.5/site-packages/sklearn/model_selection/_search.py:841: DeprecationWarning: The default of the `iid` parameter will change from True to False in version 0.22 and will be removed in 0.24. This will change numeric results when test-set sizes are unequal.\n",
      "  DeprecationWarning)\n",
      "/home/iaroslav/.local/lib/python3.5/site-packages/sklearn/linear_model/stochastic_gradient.py:166: FutureWarning: max_iter and tol parameters have been added in SGDClassifier in 0.19. If both are left unset, they default to max_iter=5 and tol=None. If tol is not None, max_iter defaults to max_iter=1000. From 0.21, default max_iter will be 1000, and default tol will be 1e-3.\n",
      "  FutureWarning)\n"
     ]
    },
    {
     "name": "stdout",
     "output_type": "stream",
     "text": [
      "{'dataset_name': 'dermatology',\n",
      " 'dataset_shape': '(366, 34)',\n",
      " 'models': {'JSAutoML': {'fit_time': 17.33110809326172,\n",
      "                         'test_score': 0.9021739130434783},\n",
      "            'PythonAutoML': {'fit_time': 12.98154354095459,\n",
      "                             'test_score': 0.9782608695652174}}}\n",
      "Fetching data ...\n",
      "diabetes (768, 8)\n",
      "Number of unique outputs: 2\n"
     ]
    },
    {
     "name": "stderr",
     "output_type": "stream",
     "text": [
      "/home/iaroslav/.local/lib/python3.5/site-packages/sklearn/model_selection/_search.py:841: DeprecationWarning: The default of the `iid` parameter will change from True to False in version 0.22 and will be removed in 0.24. This will change numeric results when test-set sizes are unequal.\n",
      "  DeprecationWarning)\n",
      "/home/iaroslav/.local/lib/python3.5/site-packages/sklearn/linear_model/stochastic_gradient.py:166: FutureWarning: max_iter and tol parameters have been added in SGDClassifier in 0.19. If both are left unset, they default to max_iter=5 and tol=None. If tol is not None, max_iter defaults to max_iter=1000. From 0.21, default max_iter will be 1000, and default tol will be 1e-3.\n",
      "  FutureWarning)\n"
     ]
    },
    {
     "name": "stdout",
     "output_type": "stream",
     "text": [
      "{'dataset_name': 'diabetes',\n",
      " 'dataset_shape': '(768, 8)',\n",
      " 'models': {'JSAutoML': {'fit_time': 9.054983854293823,\n",
      "                         'test_score': 0.8072916666666666},\n",
      "            'PythonAutoML': {'fit_time': 1.9681971073150635,\n",
      "                             'test_score': 0.8333333333333334}}}\n",
      "Fetching data ...\n",
      "dis (3772, 29)\n",
      "Number of unique outputs: 2\n",
      "{'dataset_name': 'dis',\n",
      " 'dataset_shape': '(1000, 29)',\n",
      " 'models': {'JSAutoML': {'fit_time': 11.892786502838135, 'test_score': 0.972},\n",
      "            'PythonAutoML': {'fit_time': 2.9147961139678955,\n",
      "                             'test_score': 0.976}}}\n",
      "Fetching data ...\n",
      "dna (3186, 180)\n",
      "Number of unique outputs: 3\n",
      "{'dataset_name': 'dna',\n",
      " 'dataset_shape': '(1000, 180)',\n",
      " 'models': {'JSAutoML': {'fit_time': 119.31548023223877, 'test_score': 0.916},\n",
      "            'PythonAutoML': {'fit_time': 20.61225199699402,\n",
      "                             'test_score': 0.952}}}\n",
      "Fetching data ...\n",
      "ecoli (327, 7)\n",
      "Number of unique outputs: 5\n",
      "{'dataset_name': 'ecoli',\n",
      " 'dataset_shape': '(327, 7)',\n",
      " 'models': {'JSAutoML': {'fit_time': 1.954477310180664,\n",
      "                         'test_score': 0.8048780487804879},\n",
      "            'PythonAutoML': {'fit_time': 7.753064393997192,\n",
      "                             'test_score': 0.8414634146341463}}}\n",
      "Fetching data ...\n",
      "fars (100968, 29)\n",
      "Number of unique outputs: 6\n",
      "{'dataset_name': 'fars',\n",
      " 'dataset_shape': '(1000, 29)',\n",
      " 'models': {'JSAutoML': {'fit_time': 42.145963191986084, 'test_score': 0.868},\n",
      "            'PythonAutoML': {'fit_time': 16.34161686897278,\n",
      "                             'test_score': 0.96}}}\n",
      "Fetching data ...\n",
      "flags (178, 43)\n",
      "Number of unique outputs: 5\n"
     ]
    },
    {
     "name": "stderr",
     "output_type": "stream",
     "text": [
      "/home/iaroslav/.local/lib/python3.5/site-packages/sklearn/model_selection/_search.py:841: DeprecationWarning: The default of the `iid` parameter will change from True to False in version 0.22 and will be removed in 0.24. This will change numeric results when test-set sizes are unequal.\n",
      "  DeprecationWarning)\n"
     ]
    },
    {
     "name": "stdout",
     "output_type": "stream",
     "text": [
      "{'dataset_name': 'flags',\n",
      " 'dataset_shape': '(178, 43)',\n",
      " 'models': {'JSAutoML': {'fit_time': 4.9984636306762695,\n",
      "                         'test_score': 0.5333333333333333},\n",
      "            'PythonAutoML': {'fit_time': 8.289184093475342,\n",
      "                             'test_score': 0.4444444444444444}}}\n",
      "Fetching data ...\n",
      "flare (1066, 10)\n",
      "Number of unique outputs: 2\n",
      "{'dataset_name': 'flare',\n",
      " 'dataset_shape': '(1000, 10)',\n",
      " 'models': {'JSAutoML': {'fit_time': 7.386693239212036, 'test_score': 0.824},\n",
      "            'PythonAutoML': {'fit_time': 1.284191370010376,\n",
      "                             'test_score': 0.824}}}\n",
      "Fetching data ...\n",
      "german (1000, 20)\n",
      "Number of unique outputs: 2\n",
      "{'dataset_name': 'german',\n",
      " 'dataset_shape': '(1000, 20)',\n",
      " 'models': {'JSAutoML': {'fit_time': 22.2416512966156, 'test_score': 0.668},\n",
      "            'PythonAutoML': {'fit_time': 3.4980835914611816,\n",
      "                             'test_score': 0.76}}}\n",
      "Fetching data ...\n",
      "glass (205, 9)\n",
      "Number of unique outputs: 5\n"
     ]
    },
    {
     "name": "stderr",
     "output_type": "stream",
     "text": [
      "/home/iaroslav/.local/lib/python3.5/site-packages/sklearn/model_selection/_search.py:841: DeprecationWarning: The default of the `iid` parameter will change from True to False in version 0.22 and will be removed in 0.24. This will change numeric results when test-set sizes are unequal.\n",
      "  DeprecationWarning)\n"
     ]
    },
    {
     "name": "stdout",
     "output_type": "stream",
     "text": [
      "{'dataset_name': 'glass',\n",
      " 'dataset_shape': '(205, 9)',\n",
      " 'models': {'JSAutoML': {'fit_time': 2.3753795623779297,\n",
      "                         'test_score': 0.6923076923076923},\n",
      "            'PythonAutoML': {'fit_time': 7.356153964996338,\n",
      "                             'test_score': 0.7115384615384616}}}\n",
      "Fetching data ...\n",
      "glass2 (163, 9)\n",
      "Number of unique outputs: 2\n"
     ]
    },
    {
     "name": "stderr",
     "output_type": "stream",
     "text": [
      "/home/iaroslav/.local/lib/python3.5/site-packages/sklearn/model_selection/_search.py:841: DeprecationWarning: The default of the `iid` parameter will change from True to False in version 0.22 and will be removed in 0.24. This will change numeric results when test-set sizes are unequal.\n",
      "  DeprecationWarning)\n"
     ]
    },
    {
     "name": "stdout",
     "output_type": "stream",
     "text": [
      "{'dataset_name': 'glass2',\n",
      " 'dataset_shape': '(163, 9)',\n",
      " 'models': {'JSAutoML': {'fit_time': 4.330261945724487,\n",
      "                         'test_score': 0.7073170731707317},\n",
      "            'PythonAutoML': {'fit_time': 1.3597681522369385,\n",
      "                             'test_score': 0.926829268292683}}}\n",
      "Fetching data ...\n",
      "haberman (306, 3)\n",
      "Number of unique outputs: 2\n"
     ]
    },
    {
     "name": "stderr",
     "output_type": "stream",
     "text": [
      "/home/iaroslav/.local/lib/python3.5/site-packages/sklearn/model_selection/_search.py:841: DeprecationWarning: The default of the `iid` parameter will change from True to False in version 0.22 and will be removed in 0.24. This will change numeric results when test-set sizes are unequal.\n",
      "  DeprecationWarning)\n",
      "/home/iaroslav/.local/lib/python3.5/site-packages/sklearn/linear_model/stochastic_gradient.py:166: FutureWarning: max_iter and tol parameters have been added in SGDClassifier in 0.19. If both are left unset, they default to max_iter=5 and tol=None. If tol is not None, max_iter defaults to max_iter=1000. From 0.21, default max_iter will be 1000, and default tol will be 1e-3.\n",
      "  FutureWarning)\n"
     ]
    },
    {
     "name": "stdout",
     "output_type": "stream",
     "text": [
      "{'dataset_name': 'haberman',\n",
      " 'dataset_shape': '(306, 3)',\n",
      " 'models': {'JSAutoML': {'fit_time': 2.0288124084472656,\n",
      "                         'test_score': 0.6103896103896104},\n",
      "            'PythonAutoML': {'fit_time': 1.1128416061401367,\n",
      "                             'test_score': 0.6103896103896104}}}\n",
      "Fetching data ...\n",
      "hayes-roth (160, 4)\n",
      "Number of unique outputs: 3\n",
      "{'dataset_name': 'hayes-roth',\n",
      " 'dataset_shape': '(160, 4)',\n",
      " 'models': {'JSAutoML': {'fit_time': 2.1671531200408936, 'test_score': 0.875},\n",
      "            'PythonAutoML': {'fit_time': 4.461731910705566,\n",
      "                             'test_score': 0.85}}}\n",
      "Fetching data ...\n",
      "heart-c (303, 13)\n",
      "Number of unique outputs: 2\n"
     ]
    },
    {
     "name": "stderr",
     "output_type": "stream",
     "text": [
      "/home/iaroslav/.local/lib/python3.5/site-packages/sklearn/model_selection/_search.py:841: DeprecationWarning: The default of the `iid` parameter will change from True to False in version 0.22 and will be removed in 0.24. This will change numeric results when test-set sizes are unequal.\n",
      "  DeprecationWarning)\n",
      "/home/iaroslav/.local/lib/python3.5/site-packages/sklearn/linear_model/stochastic_gradient.py:166: FutureWarning: max_iter and tol parameters have been added in SGDClassifier in 0.19. If both are left unset, they default to max_iter=5 and tol=None. If tol is not None, max_iter defaults to max_iter=1000. From 0.21, default max_iter will be 1000, and default tol will be 1e-3.\n",
      "  FutureWarning)\n"
     ]
    },
    {
     "name": "stdout",
     "output_type": "stream",
     "text": [
      "{'dataset_name': 'heart-c',\n",
      " 'dataset_shape': '(303, 13)',\n",
      " 'models': {'JSAutoML': {'fit_time': 5.087352275848389,\n",
      "                         'test_score': 0.7763157894736842},\n",
      "            'PythonAutoML': {'fit_time': 1.0632293224334717,\n",
      "                             'test_score': 0.8289473684210527}}}\n",
      "Fetching data ...\n",
      "heart-h (294, 13)\n",
      "Number of unique outputs: 2\n"
     ]
    },
    {
     "name": "stderr",
     "output_type": "stream",
     "text": [
      "/home/iaroslav/.local/lib/python3.5/site-packages/sklearn/linear_model/stochastic_gradient.py:166: FutureWarning: max_iter and tol parameters have been added in SGDClassifier in 0.19. If both are left unset, they default to max_iter=5 and tol=None. If tol is not None, max_iter defaults to max_iter=1000. From 0.21, default max_iter will be 1000, and default tol will be 1e-3.\n",
      "  FutureWarning)\n"
     ]
    },
    {
     "name": "stdout",
     "output_type": "stream",
     "text": [
      "{'dataset_name': 'heart-h',\n",
      " 'dataset_shape': '(294, 13)',\n",
      " 'models': {'JSAutoML': {'fit_time': 2.6138579845428467,\n",
      "                         'test_score': 0.8513513513513513},\n",
      "            'PythonAutoML': {'fit_time': 1.4829833507537842,\n",
      "                             'test_score': 0.8378378378378378}}}\n",
      "Fetching data ...\n",
      "heart-statlog (270, 13)\n",
      "Number of unique outputs: 2\n"
     ]
    },
    {
     "name": "stderr",
     "output_type": "stream",
     "text": [
      "/home/iaroslav/.local/lib/python3.5/site-packages/sklearn/model_selection/_search.py:841: DeprecationWarning: The default of the `iid` parameter will change from True to False in version 0.22 and will be removed in 0.24. This will change numeric results when test-set sizes are unequal.\n",
      "  DeprecationWarning)\n",
      "/home/iaroslav/.local/lib/python3.5/site-packages/sklearn/linear_model/stochastic_gradient.py:166: FutureWarning: max_iter and tol parameters have been added in SGDClassifier in 0.19. If both are left unset, they default to max_iter=5 and tol=None. If tol is not None, max_iter defaults to max_iter=1000. From 0.21, default max_iter will be 1000, and default tol will be 1e-3.\n",
      "  FutureWarning)\n"
     ]
    },
    {
     "name": "stdout",
     "output_type": "stream",
     "text": [
      "{'dataset_name': 'heart-statlog',\n",
      " 'dataset_shape': '(270, 13)',\n",
      " 'models': {'JSAutoML': {'fit_time': 5.867487668991089,\n",
      "                         'test_score': 0.7647058823529411},\n",
      "            'PythonAutoML': {'fit_time': 1.728764533996582,\n",
      "                             'test_score': 0.8088235294117647}}}\n",
      "Fetching data ...\n",
      "hepatitis (155, 19)\n",
      "Number of unique outputs: 2\n"
     ]
    },
    {
     "name": "stderr",
     "output_type": "stream",
     "text": [
      "/home/iaroslav/.local/lib/python3.5/site-packages/sklearn/model_selection/_search.py:841: DeprecationWarning: The default of the `iid` parameter will change from True to False in version 0.22 and will be removed in 0.24. This will change numeric results when test-set sizes are unequal.\n",
      "  DeprecationWarning)\n",
      "/home/iaroslav/.local/lib/python3.5/site-packages/sklearn/linear_model/stochastic_gradient.py:166: FutureWarning: max_iter and tol parameters have been added in SGDClassifier in 0.19. If both are left unset, they default to max_iter=5 and tol=None. If tol is not None, max_iter defaults to max_iter=1000. From 0.21, default max_iter will be 1000, and default tol will be 1e-3.\n",
      "  FutureWarning)\n"
     ]
    },
    {
     "name": "stdout",
     "output_type": "stream",
     "text": [
      "{'dataset_name': 'hepatitis',\n",
      " 'dataset_shape': '(155, 19)',\n",
      " 'models': {'JSAutoML': {'fit_time': 2.694948196411133,\n",
      "                         'test_score': 0.8205128205128205},\n",
      "            'PythonAutoML': {'fit_time': 0.878718376159668,\n",
      "                             'test_score': 0.7435897435897436}}}\n",
      "Fetching data ...\n",
      "horse-colic (368, 22)\n",
      "Number of unique outputs: 2\n"
     ]
    },
    {
     "name": "stderr",
     "output_type": "stream",
     "text": [
      "/home/iaroslav/.local/lib/python3.5/site-packages/sklearn/model_selection/_search.py:841: DeprecationWarning: The default of the `iid` parameter will change from True to False in version 0.22 and will be removed in 0.24. This will change numeric results when test-set sizes are unequal.\n",
      "  DeprecationWarning)\n"
     ]
    },
    {
     "name": "stdout",
     "output_type": "stream",
     "text": [
      "{'dataset_name': 'horse-colic',\n",
      " 'dataset_shape': '(368, 22)',\n",
      " 'models': {'JSAutoML': {'fit_time': 10.35094428062439,\n",
      "                         'test_score': 0.8586956521739131},\n",
      "            'PythonAutoML': {'fit_time': 1.9237682819366455,\n",
      "                             'test_score': 0.8043478260869565}}}\n",
      "Fetching data ...\n",
      "house-votes-84 (435, 16)\n",
      "Number of unique outputs: 2\n"
     ]
    },
    {
     "name": "stderr",
     "output_type": "stream",
     "text": [
      "/home/iaroslav/.local/lib/python3.5/site-packages/sklearn/model_selection/_search.py:841: DeprecationWarning: The default of the `iid` parameter will change from True to False in version 0.22 and will be removed in 0.24. This will change numeric results when test-set sizes are unequal.\n",
      "  DeprecationWarning)\n"
     ]
    },
    {
     "name": "stdout",
     "output_type": "stream",
     "text": [
      "{'dataset_name': 'house-votes-84',\n",
      " 'dataset_shape': '(435, 16)',\n",
      " 'models': {'JSAutoML': {'fit_time': 3.141756534576416,\n",
      "                         'test_score': 0.944954128440367},\n",
      "            'PythonAutoML': {'fit_time': 1.3142039775848389,\n",
      "                             'test_score': 0.963302752293578}}}\n",
      "Fetching data ...\n",
      "hungarian (294, 13)\n",
      "Number of unique outputs: 2\n"
     ]
    },
    {
     "name": "stderr",
     "output_type": "stream",
     "text": [
      "/home/iaroslav/.local/lib/python3.5/site-packages/sklearn/linear_model/stochastic_gradient.py:166: FutureWarning: max_iter and tol parameters have been added in SGDClassifier in 0.19. If both are left unset, they default to max_iter=5 and tol=None. If tol is not None, max_iter defaults to max_iter=1000. From 0.21, default max_iter will be 1000, and default tol will be 1e-3.\n",
      "  FutureWarning)\n"
     ]
    },
    {
     "name": "stdout",
     "output_type": "stream",
     "text": [
      "{'dataset_name': 'hungarian',\n",
      " 'dataset_shape': '(294, 13)',\n",
      " 'models': {'JSAutoML': {'fit_time': 3.927257776260376,\n",
      "                         'test_score': 0.8108108108108109},\n",
      "            'PythonAutoML': {'fit_time': 1.318070650100708,\n",
      "                             'test_score': 0.7837837837837838}}}\n",
      "Fetching data ...\n",
      "hypothyroid (3163, 25)\n",
      "Number of unique outputs: 2\n",
      "{'dataset_name': 'hypothyroid',\n",
      " 'dataset_shape': '(1000, 25)',\n",
      " 'models': {'JSAutoML': {'fit_time': 14.236371755599976, 'test_score': 0.952},\n",
      "            'PythonAutoML': {'fit_time': 3.9904587268829346,\n",
      "                             'test_score': 0.952}}}\n",
      "Fetching data ...\n",
      "ionosphere (351, 34)\n",
      "Number of unique outputs: 2\n"
     ]
    },
    {
     "name": "stderr",
     "output_type": "stream",
     "text": [
      "/home/iaroslav/.local/lib/python3.5/site-packages/sklearn/model_selection/_search.py:841: DeprecationWarning: The default of the `iid` parameter will change from True to False in version 0.22 and will be removed in 0.24. This will change numeric results when test-set sizes are unequal.\n",
      "  DeprecationWarning)\n"
     ]
    },
    {
     "name": "stdout",
     "output_type": "stream",
     "text": [
      "{'dataset_name': 'ionosphere',\n",
      " 'dataset_shape': '(351, 34)',\n",
      " 'models': {'JSAutoML': {'fit_time': 15.991296768188477,\n",
      "                         'test_score': 0.9318181818181818},\n",
      "            'PythonAutoML': {'fit_time': 1.7839264869689941,\n",
      "                             'test_score': 0.9772727272727273}}}\n",
      "Fetching data ...\n",
      "iris (150, 4)\n",
      "Number of unique outputs: 3\n"
     ]
    },
    {
     "name": "stderr",
     "output_type": "stream",
     "text": [
      "/home/iaroslav/.local/lib/python3.5/site-packages/sklearn/model_selection/_search.py:841: DeprecationWarning: The default of the `iid` parameter will change from True to False in version 0.22 and will be removed in 0.24. This will change numeric results when test-set sizes are unequal.\n",
      "  DeprecationWarning)\n"
     ]
    },
    {
     "name": "stdout",
     "output_type": "stream",
     "text": [
      "{'dataset_name': 'iris',\n",
      " 'dataset_shape': '(150, 4)',\n",
      " 'models': {'JSAutoML': {'fit_time': 1.2251307964324951,\n",
      "                         'test_score': 0.9736842105263158},\n",
      "            'PythonAutoML': {'fit_time': 3.7518978118896484,\n",
      "                             'test_score': 0.9736842105263158}}}\n",
      "Fetching data ...\n",
      "irish (500, 5)\n",
      "Number of unique outputs: 2\n",
      "{'dataset_name': 'irish',\n",
      " 'dataset_shape': '(500, 5)',\n",
      " 'models': {'JSAutoML': {'fit_time': 1.6770575046539307, 'test_score': 1.0},\n",
      "            'PythonAutoML': {'fit_time': 1.0736122131347656,\n",
      "                             'test_score': 1.0}}}\n",
      "Fetching data ...\n",
      "kddcup (494020, 41)\n",
      "Number of unique outputs: 2\n",
      "{'dataset_name': 'kddcup',\n",
      " 'dataset_shape': '(1000, 41)',\n",
      " 'models': {'JSAutoML': {'fit_time': 17.155032634735107, 'test_score': 0.996},\n",
      "            'PythonAutoML': {'fit_time': 2.747774124145508,\n",
      "                             'test_score': 0.996}}}\n",
      "Fetching data ...\n",
      "kr-vs-kp (3196, 36)\n",
      "Number of unique outputs: 2\n",
      "{'dataset_name': 'kr-vs-kp',\n",
      " 'dataset_shape': '(1000, 36)',\n",
      " 'models': {'JSAutoML': {'fit_time': 24.255556106567383, 'test_score': 0.992},\n",
      "            'PythonAutoML': {'fit_time': 2.9026854038238525,\n",
      "                             'test_score': 0.992}}}\n",
      "Fetching data ...\n",
      "krkopt (28056, 6)\n",
      "Fetching data ...\n",
      "labor (57, 16)\n",
      "Number of unique outputs: 2\n"
     ]
    },
    {
     "name": "stderr",
     "output_type": "stream",
     "text": [
      "/home/iaroslav/.local/lib/python3.5/site-packages/sklearn/model_selection/_search.py:841: DeprecationWarning: The default of the `iid` parameter will change from True to False in version 0.22 and will be removed in 0.24. This will change numeric results when test-set sizes are unequal.\n",
      "  DeprecationWarning)\n"
     ]
    },
    {
     "name": "stdout",
     "output_type": "stream",
     "text": [
      "{'dataset_name': 'labor',\n",
      " 'dataset_shape': '(57, 16)',\n",
      " 'models': {'JSAutoML': {'fit_time': 1.8765060901641846,\n",
      "                         'test_score': 0.6666666666666666},\n",
      "            'PythonAutoML': {'fit_time': 0.7912445068359375,\n",
      "                             'test_score': 0.7333333333333333}}}\n",
      "Fetching data ...\n",
      "led24 (3200, 24)\n",
      "Number of unique outputs: 10\n",
      "{'dataset_name': 'led24',\n",
      " 'dataset_shape': '(1000, 24)',\n",
      " 'models': {'JSAutoML': {'fit_time': 86.03506684303284, 'test_score': 0.744},\n",
      "            'PythonAutoML': {'fit_time': 31.66687035560608,\n",
      "                             'test_score': 0.724}}}\n",
      "Fetching data ...\n",
      "led7 (3200, 7)\n",
      "Number of unique outputs: 10\n",
      "{'dataset_name': 'led7',\n",
      " 'dataset_shape': '(1000, 7)',\n",
      " 'models': {'JSAutoML': {'fit_time': 21.77524471282959, 'test_score': 0.672},\n",
      "            'PythonAutoML': {'fit_time': 12.56916093826294,\n",
      "                             'test_score': 0.708}}}\n",
      "Fetching data ...\n",
      "letter (20000, 16)\n",
      "Number of unique outputs: 26\n",
      "{'dataset_name': 'letter',\n",
      " 'dataset_shape': '(1000, 16)',\n",
      " 'models': {'JSAutoML': {'fit_time': 86.8383936882019, 'test_score': 0.604},\n",
      "            'PythonAutoML': {'fit_time': 64.12803220748901,\n",
      "                             'test_score': 0.748}}}\n",
      "Fetching data ...\n",
      "liver-disorder (345, 6)\n",
      "Number of unique outputs: 2\n"
     ]
    },
    {
     "name": "stderr",
     "output_type": "stream",
     "text": [
      "/home/iaroslav/.local/lib/python3.5/site-packages/sklearn/model_selection/_search.py:841: DeprecationWarning: The default of the `iid` parameter will change from True to False in version 0.22 and will be removed in 0.24. This will change numeric results when test-set sizes are unequal.\n",
      "  DeprecationWarning)\n"
     ]
    },
    {
     "name": "stdout",
     "output_type": "stream",
     "text": [
      "{'dataset_name': 'liver-disorder',\n",
      " 'dataset_shape': '(345, 6)',\n",
      " 'models': {'JSAutoML': {'fit_time': 2.4199798107147217,\n",
      "                         'test_score': 0.6206896551724138},\n",
      "            'PythonAutoML': {'fit_time': 1.6391353607177734,\n",
      "                             'test_score': 0.6551724137931034}}}\n",
      "Fetching data ...\n",
      "lupus (87, 3)\n",
      "Number of unique outputs: 2\n"
     ]
    },
    {
     "name": "stderr",
     "output_type": "stream",
     "text": [
      "/home/iaroslav/.local/lib/python3.5/site-packages/sklearn/linear_model/stochastic_gradient.py:166: FutureWarning: max_iter and tol parameters have been added in SGDClassifier in 0.19. If both are left unset, they default to max_iter=5 and tol=None. If tol is not None, max_iter defaults to max_iter=1000. From 0.21, default max_iter will be 1000, and default tol will be 1e-3.\n",
      "  FutureWarning)\n"
     ]
    },
    {
     "name": "stdout",
     "output_type": "stream",
     "text": [
      "{'dataset_name': 'lupus',\n",
      " 'dataset_shape': '(87, 3)',\n",
      " 'models': {'JSAutoML': {'fit_time': 0.7540373802185059,\n",
      "                         'test_score': 0.7727272727272727},\n",
      "            'PythonAutoML': {'fit_time': 0.9573073387145996,\n",
      "                             'test_score': 0.7727272727272727}}}\n",
      "Fetching data ...\n",
      "lymphography (148, 18)\n",
      "Number of unique outputs: 4\n"
     ]
    },
    {
     "name": "stderr",
     "output_type": "stream",
     "text": [
      "/home/iaroslav/.local/lib/python3.5/site-packages/sklearn/model_selection/_search.py:841: DeprecationWarning: The default of the `iid` parameter will change from True to False in version 0.22 and will be removed in 0.24. This will change numeric results when test-set sizes are unequal.\n",
      "  DeprecationWarning)\n",
      "/home/iaroslav/.local/lib/python3.5/site-packages/sklearn/linear_model/stochastic_gradient.py:166: FutureWarning: max_iter and tol parameters have been added in SGDClassifier in 0.19. If both are left unset, they default to max_iter=5 and tol=None. If tol is not None, max_iter defaults to max_iter=1000. From 0.21, default max_iter will be 1000, and default tol will be 1e-3.\n",
      "  FutureWarning)\n"
     ]
    },
    {
     "name": "stdout",
     "output_type": "stream",
     "text": [
      "{'dataset_name': 'lymphography',\n",
      " 'dataset_shape': '(148, 18)',\n",
      " 'models': {'JSAutoML': {'fit_time': 3.8295845985412598,\n",
      "                         'test_score': 0.8108108108108109},\n",
      "            'PythonAutoML': {'fit_time': 4.616715431213379,\n",
      "                             'test_score': 0.5405405405405406}}}\n",
      "Fetching data ...\n",
      "magic (19020, 10)\n",
      "Fetching data ...\n",
      "mfeat-factors (2000, 216)\n",
      "Number of unique outputs: 5\n"
     ]
    },
    {
     "name": "stderr",
     "output_type": "stream",
     "text": [
      "/home/iaroslav/.local/lib/python3.5/site-packages/sklearn/linear_model/stochastic_gradient.py:166: FutureWarning: max_iter and tol parameters have been added in SGDClassifier in 0.19. If both are left unset, they default to max_iter=5 and tol=None. If tol is not None, max_iter defaults to max_iter=1000. From 0.21, default max_iter will be 1000, and default tol will be 1e-3.\n",
      "  FutureWarning)\n"
     ]
    },
    {
     "name": "stdout",
     "output_type": "stream",
     "text": [
      "{'dataset_name': 'mfeat-factors',\n",
      " 'dataset_shape': '(1000, 216)',\n",
      " 'models': {'JSAutoML': {'fit_time': 432.2429416179657, 'test_score': 0.928},\n",
      "            'PythonAutoML': {'fit_time': 32.56096911430359,\n",
      "                             'test_score': 0.988}}}\n",
      "Fetching data ...\n",
      "mfeat-fourier (2000, 76)\n",
      "Number of unique outputs: 5\n",
      "{'dataset_name': 'mfeat-fourier',\n",
      " 'dataset_shape': '(1000, 76)',\n",
      " 'models': {'JSAutoML': {'fit_time': 137.42546772956848, 'test_score': 0.9},\n",
      "            'PythonAutoML': {'fit_time': 27.895456314086914,\n",
      "                             'test_score': 0.928}}}\n",
      "Fetching data ...\n",
      "mfeat-karhunen (2000, 64)\n",
      "Number of unique outputs: 5\n"
     ]
    },
    {
     "name": "stderr",
     "output_type": "stream",
     "text": [
      "/home/iaroslav/.local/lib/python3.5/site-packages/sklearn/linear_model/stochastic_gradient.py:166: FutureWarning: max_iter and tol parameters have been added in SGDClassifier in 0.19. If both are left unset, they default to max_iter=5 and tol=None. If tol is not None, max_iter defaults to max_iter=1000. From 0.21, default max_iter will be 1000, and default tol will be 1e-3.\n",
      "  FutureWarning)\n"
     ]
    },
    {
     "name": "stdout",
     "output_type": "stream",
     "text": [
      "{'dataset_name': 'mfeat-karhunen',\n",
      " 'dataset_shape': '(1000, 64)',\n",
      " 'models': {'JSAutoML': {'fit_time': 419.27477860450745, 'test_score': 0.96},\n",
      "            'PythonAutoML': {'fit_time': 26.219175338745117,\n",
      "                             'test_score': 0.968}}}\n",
      "Fetching data ...\n",
      "mfeat-morphological (2000, 6)\n",
      "Number of unique outputs: 5\n",
      "{'dataset_name': 'mfeat-morphological',\n",
      " 'dataset_shape': '(1000, 6)',\n",
      " 'models': {'JSAutoML': {'fit_time': 11.062623500823975, 'test_score': 0.8},\n",
      "            'PythonAutoML': {'fit_time': 8.423062086105347,\n",
      "                             'test_score': 0.804}}}\n",
      "Fetching data ...\n",
      "mfeat-pixel (2000, 240)\n",
      "Number of unique outputs: 5\n",
      "{'dataset_name': 'mfeat-pixel',\n",
      " 'dataset_shape': '(1000, 240)',\n",
      " 'models': {'JSAutoML': {'fit_time': 232.03912448883057, 'test_score': 0.972},\n",
      "            'PythonAutoML': {'fit_time': 26.955079793930054,\n",
      "                             'test_score': 0.964}}}\n",
      "Fetching data ...\n",
      "mfeat-zernike (2000, 47)\n",
      "Number of unique outputs: 5\n"
     ]
    },
    {
     "name": "stderr",
     "output_type": "stream",
     "text": [
      "/home/iaroslav/.local/lib/python3.5/site-packages/sklearn/linear_model/stochastic_gradient.py:166: FutureWarning: max_iter and tol parameters have been added in SGDClassifier in 0.19. If both are left unset, they default to max_iter=5 and tol=None. If tol is not None, max_iter defaults to max_iter=1000. From 0.21, default max_iter will be 1000, and default tol will be 1e-3.\n",
      "  FutureWarning)\n"
     ]
    },
    {
     "name": "stdout",
     "output_type": "stream",
     "text": [
      "{'dataset_name': 'mfeat-zernike',\n",
      " 'dataset_shape': '(1000, 47)',\n",
      " 'models': {'JSAutoML': {'fit_time': 82.98760104179382, 'test_score': 0.936},\n",
      "            'PythonAutoML': {'fit_time': 18.66702914237976,\n",
      "                             'test_score': 0.94}}}\n",
      "Fetching data ...\n",
      "mnist (70000, 784)\n",
      "Fetching data ...\n",
      "mofn-3-7-10 (1324, 10)\n",
      "Number of unique outputs: 2\n"
     ]
    },
    {
     "name": "stderr",
     "output_type": "stream",
     "text": [
      "/home/iaroslav/.local/lib/python3.5/site-packages/sklearn/linear_model/stochastic_gradient.py:166: FutureWarning: max_iter and tol parameters have been added in SGDClassifier in 0.19. If both are left unset, they default to max_iter=5 and tol=None. If tol is not None, max_iter defaults to max_iter=1000. From 0.21, default max_iter will be 1000, and default tol will be 1e-3.\n",
      "  FutureWarning)\n"
     ]
    },
    {
     "name": "stdout",
     "output_type": "stream",
     "text": [
      "{'dataset_name': 'mofn-3-7-10',\n",
      " 'dataset_shape': '(1000, 10)',\n",
      " 'models': {'JSAutoML': {'fit_time': 7.146252870559692, 'test_score': 1.0},\n",
      "            'PythonAutoML': {'fit_time': 2.0531229972839355,\n",
      "                             'test_score': 1.0}}}\n",
      "Fetching data ...\n",
      "molecular-biology_promoters (106, 58)\n",
      "Number of unique outputs: 2\n"
     ]
    },
    {
     "name": "stderr",
     "output_type": "stream",
     "text": [
      "/home/iaroslav/.local/lib/python3.5/site-packages/sklearn/model_selection/_search.py:841: DeprecationWarning: The default of the `iid` parameter will change from True to False in version 0.22 and will be removed in 0.24. This will change numeric results when test-set sizes are unequal.\n",
      "  DeprecationWarning)\n"
     ]
    },
    {
     "name": "stdout",
     "output_type": "stream",
     "text": [
      "{'dataset_name': 'molecular-biology_promoters',\n",
      " 'dataset_shape': '(106, 58)',\n",
      " 'models': {'JSAutoML': {'fit_time': 5.465776681900024, 'test_score': 1.0},\n",
      "            'PythonAutoML': {'fit_time': 0.9972848892211914,\n",
      "                             'test_score': 1.0}}}\n",
      "Fetching data ...\n",
      "monk1 (556, 6)\n",
      "Number of unique outputs: 2\n"
     ]
    },
    {
     "name": "stderr",
     "output_type": "stream",
     "text": [
      "/home/iaroslav/.local/lib/python3.5/site-packages/sklearn/model_selection/_search.py:841: DeprecationWarning: The default of the `iid` parameter will change from True to False in version 0.22 and will be removed in 0.24. This will change numeric results when test-set sizes are unequal.\n",
      "  DeprecationWarning)\n"
     ]
    },
    {
     "name": "stdout",
     "output_type": "stream",
     "text": [
      "{'dataset_name': 'monk1',\n",
      " 'dataset_shape': '(556, 6)',\n",
      " 'models': {'JSAutoML': {'fit_time': 1.3870244026184082,\n",
      "                         'test_score': 0.9928057553956835},\n",
      "            'PythonAutoML': {'fit_time': 1.196467399597168, 'test_score': 1.0}}}\n",
      "Fetching data ...\n",
      "monk2 (601, 6)\n",
      "Number of unique outputs: 2\n",
      "{'dataset_name': 'monk2',\n",
      " 'dataset_shape': '(601, 6)',\n",
      " 'models': {'JSAutoML': {'fit_time': 2.8871634006500244,\n",
      "                         'test_score': 0.9602649006622517},\n",
      "            'PythonAutoML': {'fit_time': 1.3291590213775635,\n",
      "                             'test_score': 0.9668874172185431}}}\n",
      "Fetching data ...\n",
      "monk3 (554, 6)\n",
      "Number of unique outputs: 2\n",
      "{'dataset_name': 'monk3',\n",
      " 'dataset_shape': '(554, 6)',\n",
      " 'models': {'JSAutoML': {'fit_time': 2.0739951133728027,\n",
      "                         'test_score': 0.9928057553956835},\n",
      "            'PythonAutoML': {'fit_time': 1.5387892723083496,\n",
      "                             'test_score': 0.9928057553956835}}}\n",
      "Fetching data ...\n",
      "movement_libras (360, 90)\n",
      "Number of unique outputs: 15\n"
     ]
    },
    {
     "name": "stderr",
     "output_type": "stream",
     "text": [
      "/home/iaroslav/.local/lib/python3.5/site-packages/sklearn/linear_model/stochastic_gradient.py:166: FutureWarning: max_iter and tol parameters have been added in SGDClassifier in 0.19. If both are left unset, they default to max_iter=5 and tol=None. If tol is not None, max_iter defaults to max_iter=1000. From 0.21, default max_iter will be 1000, and default tol will be 1e-3.\n",
      "  FutureWarning)\n"
     ]
    },
    {
     "name": "stdout",
     "output_type": "stream",
     "text": [
      "{'dataset_name': 'movement_libras',\n",
      " 'dataset_shape': '(360, 90)',\n",
      " 'models': {'JSAutoML': {'fit_time': 229.2906777858734,\n",
      "                         'test_score': 0.6222222222222222},\n",
      "            'PythonAutoML': {'fit_time': 40.736117362976074,\n",
      "                             'test_score': 0.5444444444444444}}}\n",
      "Fetching data ...\n",
      "mushroom (8124, 22)\n",
      "Number of unique outputs: 2\n",
      "{'dataset_name': 'mushroom',\n",
      " 'dataset_shape': '(1000, 22)',\n",
      " 'models': {'JSAutoML': {'fit_time': 15.203285932540894, 'test_score': 1.0},\n",
      "            'PythonAutoML': {'fit_time': 3.0634851455688477,\n",
      "                             'test_score': 1.0}}}\n",
      "Fetching data ...\n",
      "mux6 (128, 6)\n",
      "Number of unique outputs: 2\n"
     ]
    },
    {
     "name": "stderr",
     "output_type": "stream",
     "text": [
      "/home/iaroslav/.local/lib/python3.5/site-packages/sklearn/model_selection/_search.py:841: DeprecationWarning: The default of the `iid` parameter will change from True to False in version 0.22 and will be removed in 0.24. This will change numeric results when test-set sizes are unequal.\n",
      "  DeprecationWarning)\n"
     ]
    },
    {
     "name": "stdout",
     "output_type": "stream",
     "text": [
      "{'dataset_name': 'mux6',\n",
      " 'dataset_shape': '(128, 6)',\n",
      " 'models': {'JSAutoML': {'fit_time': 0.6880209445953369, 'test_score': 1.0},\n",
      "            'PythonAutoML': {'fit_time': 1.237015724182129, 'test_score': 1.0}}}\n",
      "Fetching data ...\n",
      "new-thyroid (215, 5)\n",
      "Number of unique outputs: 3\n"
     ]
    },
    {
     "name": "stderr",
     "output_type": "stream",
     "text": [
      "/home/iaroslav/.local/lib/python3.5/site-packages/sklearn/model_selection/_search.py:841: DeprecationWarning: The default of the `iid` parameter will change from True to False in version 0.22 and will be removed in 0.24. This will change numeric results when test-set sizes are unequal.\n",
      "  DeprecationWarning)\n",
      "/home/iaroslav/.local/lib/python3.5/site-packages/sklearn/linear_model/stochastic_gradient.py:166: FutureWarning: max_iter and tol parameters have been added in SGDClassifier in 0.19. If both are left unset, they default to max_iter=5 and tol=None. If tol is not None, max_iter defaults to max_iter=1000. From 0.21, default max_iter will be 1000, and default tol will be 1e-3.\n",
      "  FutureWarning)\n"
     ]
    },
    {
     "name": "stdout",
     "output_type": "stream",
     "text": [
      "{'dataset_name': 'new-thyroid',\n",
      " 'dataset_shape': '(215, 5)',\n",
      " 'models': {'JSAutoML': {'fit_time': 1.7139382362365723, 'test_score': 1.0},\n",
      "            'PythonAutoML': {'fit_time': 2.3918416500091553,\n",
      "                             'test_score': 0.9629629629629629}}}\n",
      "Fetching data ...\n",
      "nursery (12958, 8)\n",
      "Number of unique outputs: 3\n",
      "{'dataset_name': 'nursery',\n",
      " 'dataset_shape': '(1000, 8)',\n",
      " 'models': {'JSAutoML': {'fit_time': 11.46042513847351, 'test_score': 0.992},\n",
      "            'PythonAutoML': {'fit_time': 5.707296848297119, 'test_score': 1.0}}}\n",
      "Fetching data ...\n",
      "optdigits (5620, 64)\n",
      "Number of unique outputs: 10\n"
     ]
    },
    {
     "name": "stderr",
     "output_type": "stream",
     "text": [
      "/home/iaroslav/.local/lib/python3.5/site-packages/sklearn/linear_model/stochastic_gradient.py:166: FutureWarning: max_iter and tol parameters have been added in SGDClassifier in 0.19. If both are left unset, they default to max_iter=5 and tol=None. If tol is not None, max_iter defaults to max_iter=1000. From 0.21, default max_iter will be 1000, and default tol will be 1e-3.\n",
      "  FutureWarning)\n"
     ]
    },
    {
     "name": "stdout",
     "output_type": "stream",
     "text": [
      "{'dataset_name': 'optdigits',\n",
      " 'dataset_shape': '(1000, 64)',\n",
      " 'models': {'JSAutoML': {'fit_time': 99.19450163841248, 'test_score': 0.872},\n",
      "            'PythonAutoML': {'fit_time': 33.37720823287964,\n",
      "                             'test_score': 0.948}}}\n",
      "Fetching data ...\n",
      "page-blocks (5473, 10)\n",
      "Number of unique outputs: 4\n",
      "{'dataset_name': 'page-blocks',\n",
      " 'dataset_shape': '(1000, 10)',\n",
      " 'models': {'JSAutoML': {'fit_time': 10.642569541931152, 'test_score': 0.956},\n",
      "            'PythonAutoML': {'fit_time': 9.073924541473389,\n",
      "                             'test_score': 0.956}}}\n",
      "Fetching data ...\n",
      "parity5 (32, 5)\n",
      "Number of unique outputs: 2\n"
     ]
    },
    {
     "name": "stderr",
     "output_type": "stream",
     "text": [
      "/home/iaroslav/.local/lib/python3.5/site-packages/sklearn/model_selection/_search.py:841: DeprecationWarning: The default of the `iid` parameter will change from True to False in version 0.22 and will be removed in 0.24. This will change numeric results when test-set sizes are unequal.\n",
      "  DeprecationWarning)\n",
      "/home/iaroslav/.local/lib/python3.5/site-packages/sklearn/linear_model/stochastic_gradient.py:166: FutureWarning: max_iter and tol parameters have been added in SGDClassifier in 0.19. If both are left unset, they default to max_iter=5 and tol=None. If tol is not None, max_iter defaults to max_iter=1000. From 0.21, default max_iter will be 1000, and default tol will be 1e-3.\n",
      "  FutureWarning)\n"
     ]
    },
    {
     "name": "stdout",
     "output_type": "stream",
     "text": [
      "{'dataset_name': 'parity5',\n",
      " 'dataset_shape': '(32, 5)',\n",
      " 'models': {'JSAutoML': {'fit_time': 0.7814064025878906, 'test_score': 0.25},\n",
      "            'PythonAutoML': {'fit_time': 1.1591589450836182,\n",
      "                             'test_score': 0.625}}}\n",
      "Fetching data ...\n",
      "parity5+5 (1124, 10)\n",
      "Number of unique outputs: 2\n",
      "{'dataset_name': 'parity5+5',\n",
      " 'dataset_shape': '(1000, 10)',\n",
      " 'models': {'JSAutoML': {'fit_time': 2.654552459716797, 'test_score': 0.64},\n",
      "            'PythonAutoML': {'fit_time': 1.259181022644043,\n",
      "                             'test_score': 0.624}}}\n",
      "Fetching data ...\n",
      "pendigits (10992, 16)\n",
      "Number of unique outputs: 10\n",
      "{'dataset_name': 'pendigits',\n",
      " 'dataset_shape': '(1000, 16)',\n",
      " 'models': {'JSAutoML': {'fit_time': 91.34794282913208, 'test_score': 0.832},\n",
      "            'PythonAutoML': {'fit_time': 17.233415842056274,\n",
      "                             'test_score': 0.916}}}\n",
      "Fetching data ...\n",
      "phoneme (5404, 5)\n",
      "Number of unique outputs: 2\n",
      "{'dataset_name': 'phoneme',\n",
      " 'dataset_shape': '(1000, 5)',\n",
      " 'models': {'JSAutoML': {'fit_time': 10.013556241989136, 'test_score': 0.848},\n",
      "            'PythonAutoML': {'fit_time': 2.207158327102661,\n",
      "                             'test_score': 0.824}}}\n",
      "Fetching data ...\n",
      "pima (768, 8)\n",
      "Number of unique outputs: 2\n"
     ]
    },
    {
     "name": "stderr",
     "output_type": "stream",
     "text": [
      "/home/iaroslav/.local/lib/python3.5/site-packages/sklearn/model_selection/_search.py:841: DeprecationWarning: The default of the `iid` parameter will change from True to False in version 0.22 and will be removed in 0.24. This will change numeric results when test-set sizes are unequal.\n",
      "  DeprecationWarning)\n",
      "/home/iaroslav/.local/lib/python3.5/site-packages/sklearn/linear_model/stochastic_gradient.py:166: FutureWarning: max_iter and tol parameters have been added in SGDClassifier in 0.19. If both are left unset, they default to max_iter=5 and tol=None. If tol is not None, max_iter defaults to max_iter=1000. From 0.21, default max_iter will be 1000, and default tol will be 1e-3.\n",
      "  FutureWarning)\n"
     ]
    },
    {
     "name": "stdout",
     "output_type": "stream",
     "text": [
      "{'dataset_name': 'pima',\n",
      " 'dataset_shape': '(768, 8)',\n",
      " 'models': {'JSAutoML': {'fit_time': 9.825282335281372,\n",
      "                         'test_score': 0.7083333333333334},\n",
      "            'PythonAutoML': {'fit_time': 1.9848263263702393,\n",
      "                             'test_score': 0.7552083333333334}}}\n",
      "Fetching data ...\n",
      "poker (1025009, 10)\n",
      "Number of unique outputs: 6\n",
      "{'dataset_name': 'poker',\n",
      " 'dataset_shape': '(1000, 10)',\n",
      " 'models': {'JSAutoML': {'fit_time': 15.886025190353394, 'test_score': 0.472},\n",
      "            'PythonAutoML': {'fit_time': 7.9385292530059814,\n",
      "                             'test_score': 0.444}}}\n",
      "Fetching data ...\n",
      "postoperative-patient-data (88, 8)\n",
      "Number of unique outputs: 2\n"
     ]
    },
    {
     "name": "stderr",
     "output_type": "stream",
     "text": [
      "/home/iaroslav/.local/lib/python3.5/site-packages/sklearn/model_selection/_search.py:841: DeprecationWarning: The default of the `iid` parameter will change from True to False in version 0.22 and will be removed in 0.24. This will change numeric results when test-set sizes are unequal.\n",
      "  DeprecationWarning)\n",
      "/home/iaroslav/.local/lib/python3.5/site-packages/sklearn/linear_model/stochastic_gradient.py:166: FutureWarning: max_iter and tol parameters have been added in SGDClassifier in 0.19. If both are left unset, they default to max_iter=5 and tol=None. If tol is not None, max_iter defaults to max_iter=1000. From 0.21, default max_iter will be 1000, and default tol will be 1e-3.\n",
      "  FutureWarning)\n"
     ]
    },
    {
     "name": "stdout",
     "output_type": "stream",
     "text": [
      "{'dataset_name': 'postoperative-patient-data',\n",
      " 'dataset_shape': '(88, 8)',\n",
      " 'models': {'JSAutoML': {'fit_time': 0.9432203769683838,\n",
      "                         'test_score': 0.5909090909090909},\n",
      "            'PythonAutoML': {'fit_time': 1.0373141765594482,\n",
      "                             'test_score': 0.5909090909090909}}}\n",
      "Fetching data ...\n",
      "prnn_crabs (200, 7)\n",
      "Number of unique outputs: 2\n"
     ]
    },
    {
     "name": "stderr",
     "output_type": "stream",
     "text": [
      "/home/iaroslav/.local/lib/python3.5/site-packages/sklearn/linear_model/stochastic_gradient.py:166: FutureWarning: max_iter and tol parameters have been added in SGDClassifier in 0.19. If both are left unset, they default to max_iter=5 and tol=None. If tol is not None, max_iter defaults to max_iter=1000. From 0.21, default max_iter will be 1000, and default tol will be 1e-3.\n",
      "  FutureWarning)\n"
     ]
    },
    {
     "name": "stdout",
     "output_type": "stream",
     "text": [
      "{'dataset_name': 'prnn_crabs',\n",
      " 'dataset_shape': '(200, 7)',\n",
      " 'models': {'JSAutoML': {'fit_time': 2.0579757690429688, 'test_score': 0.84},\n",
      "            'PythonAutoML': {'fit_time': 1.2526931762695312,\n",
      "                             'test_score': 1.0}}}\n",
      "Fetching data ...\n",
      "prnn_fglass (205, 9)\n",
      "Number of unique outputs: 5\n"
     ]
    },
    {
     "name": "stderr",
     "output_type": "stream",
     "text": [
      "/home/iaroslav/.local/lib/python3.5/site-packages/sklearn/model_selection/_search.py:841: DeprecationWarning: The default of the `iid` parameter will change from True to False in version 0.22 and will be removed in 0.24. This will change numeric results when test-set sizes are unequal.\n",
      "  DeprecationWarning)\n"
     ]
    },
    {
     "name": "stdout",
     "output_type": "stream",
     "text": [
      "{'dataset_name': 'prnn_fglass',\n",
      " 'dataset_shape': '(205, 9)',\n",
      " 'models': {'JSAutoML': {'fit_time': 5.140958786010742,\n",
      "                         'test_score': 0.5576923076923077},\n",
      "            'PythonAutoML': {'fit_time': 7.411440849304199,\n",
      "                             'test_score': 0.7307692307692307}}}\n",
      "Fetching data ...\n",
      "prnn_synth (250, 2)\n",
      "Number of unique outputs: 2\n"
     ]
    },
    {
     "name": "stderr",
     "output_type": "stream",
     "text": [
      "/home/iaroslav/.local/lib/python3.5/site-packages/sklearn/model_selection/_search.py:841: DeprecationWarning: The default of the `iid` parameter will change from True to False in version 0.22 and will be removed in 0.24. This will change numeric results when test-set sizes are unequal.\n",
      "  DeprecationWarning)\n",
      "/home/iaroslav/.local/lib/python3.5/site-packages/sklearn/linear_model/stochastic_gradient.py:166: FutureWarning: max_iter and tol parameters have been added in SGDClassifier in 0.19. If both are left unset, they default to max_iter=5 and tol=None. If tol is not None, max_iter defaults to max_iter=1000. From 0.21, default max_iter will be 1000, and default tol will be 1e-3.\n",
      "  FutureWarning)\n"
     ]
    },
    {
     "name": "stdout",
     "output_type": "stream",
     "text": [
      "{'dataset_name': 'prnn_synth',\n",
      " 'dataset_shape': '(250, 2)',\n",
      " 'models': {'JSAutoML': {'fit_time': 1.6278090476989746,\n",
      "                         'test_score': 0.7936507936507936},\n",
      "            'PythonAutoML': {'fit_time': 0.8601582050323486,\n",
      "                             'test_score': 0.8571428571428571}}}\n",
      "Fetching data ...\n",
      "profb (672, 9)\n",
      "Number of unique outputs: 2\n"
     ]
    },
    {
     "name": "stderr",
     "output_type": "stream",
     "text": [
      "/home/iaroslav/.local/lib/python3.5/site-packages/sklearn/model_selection/_search.py:841: DeprecationWarning: The default of the `iid` parameter will change from True to False in version 0.22 and will be removed in 0.24. This will change numeric results when test-set sizes are unequal.\n",
      "  DeprecationWarning)\n"
     ]
    },
    {
     "name": "stdout",
     "output_type": "stream",
     "text": [
      "{'dataset_name': 'profb',\n",
      " 'dataset_shape': '(672, 9)',\n",
      " 'models': {'JSAutoML': {'fit_time': 4.628323316574097,\n",
      "                         'test_score': 0.6785714285714286},\n",
      "            'PythonAutoML': {'fit_time': 1.745755910873413,\n",
      "                             'test_score': 0.6130952380952381}}}\n",
      "Fetching data ...\n",
      "promoters (106, 58)\n",
      "Number of unique outputs: 2\n"
     ]
    },
    {
     "name": "stderr",
     "output_type": "stream",
     "text": [
      "/home/iaroslav/.local/lib/python3.5/site-packages/sklearn/model_selection/_search.py:841: DeprecationWarning: The default of the `iid` parameter will change from True to False in version 0.22 and will be removed in 0.24. This will change numeric results when test-set sizes are unequal.\n",
      "  DeprecationWarning)\n"
     ]
    },
    {
     "name": "stdout",
     "output_type": "stream",
     "text": [
      "{'dataset_name': 'promoters',\n",
      " 'dataset_shape': '(106, 58)',\n",
      " 'models': {'JSAutoML': {'fit_time': 2.8062808513641357, 'test_score': 1.0},\n",
      "            'PythonAutoML': {'fit_time': 0.7069249153137207,\n",
      "                             'test_score': 1.0}}}\n",
      "Fetching data ...\n",
      "ring (7400, 20)\n",
      "Number of unique outputs: 2\n",
      "{'dataset_name': 'ring',\n",
      " 'dataset_shape': '(1000, 20)',\n",
      " 'models': {'JSAutoML': {'fit_time': 35.24842953681946, 'test_score': 0.908},\n",
      "            'PythonAutoML': {'fit_time': 4.29784893989563,\n",
      "                             'test_score': 0.944}}}\n",
      "Fetching data ...\n",
      "saheart (462, 9)\n",
      "Number of unique outputs: 2\n"
     ]
    },
    {
     "name": "stderr",
     "output_type": "stream",
     "text": [
      "/home/iaroslav/.local/lib/python3.5/site-packages/sklearn/model_selection/_search.py:841: DeprecationWarning: The default of the `iid` parameter will change from True to False in version 0.22 and will be removed in 0.24. This will change numeric results when test-set sizes are unequal.\n",
      "  DeprecationWarning)\n",
      "/home/iaroslav/.local/lib/python3.5/site-packages/sklearn/linear_model/stochastic_gradient.py:166: FutureWarning: max_iter and tol parameters have been added in SGDClassifier in 0.19. If both are left unset, they default to max_iter=5 and tol=None. If tol is not None, max_iter defaults to max_iter=1000. From 0.21, default max_iter will be 1000, and default tol will be 1e-3.\n",
      "  FutureWarning)\n"
     ]
    },
    {
     "name": "stdout",
     "output_type": "stream",
     "text": [
      "{'dataset_name': 'saheart',\n",
      " 'dataset_shape': '(462, 9)',\n",
      " 'models': {'JSAutoML': {'fit_time': 3.931150197982788,\n",
      "                         'test_score': 0.6637931034482759},\n",
      "            'PythonAutoML': {'fit_time': 1.0686869621276855,\n",
      "                             'test_score': 0.7155172413793104}}}\n",
      "Fetching data ...\n",
      "satimage (6435, 36)\n",
      "Number of unique outputs: 5\n",
      "{'dataset_name': 'satimage',\n",
      " 'dataset_shape': '(1000, 36)',\n",
      " 'models': {'JSAutoML': {'fit_time': 90.598304271698, 'test_score': 0.948},\n",
      "            'PythonAutoML': {'fit_time': 10.40371584892273,\n",
      "                             'test_score': 0.96}}}\n",
      "Fetching data ...\n",
      "schizo (340, 14)\n",
      "Number of unique outputs: 3\n"
     ]
    },
    {
     "name": "stderr",
     "output_type": "stream",
     "text": [
      "/home/iaroslav/.local/lib/python3.5/site-packages/sklearn/linear_model/stochastic_gradient.py:166: FutureWarning: max_iter and tol parameters have been added in SGDClassifier in 0.19. If both are left unset, they default to max_iter=5 and tol=None. If tol is not None, max_iter defaults to max_iter=1000. From 0.21, default max_iter will be 1000, and default tol will be 1e-3.\n",
      "  FutureWarning)\n"
     ]
    },
    {
     "name": "stdout",
     "output_type": "stream",
     "text": [
      "{'dataset_name': 'schizo',\n",
      " 'dataset_shape': '(340, 14)',\n",
      " 'models': {'JSAutoML': {'fit_time': 6.437302112579346,\n",
      "                         'test_score': 0.5882352941176471},\n",
      "            'PythonAutoML': {'fit_time': 3.062302827835083,\n",
      "                             'test_score': 0.611764705882353}}}\n",
      "Fetching data ...\n",
      "segmentation (2310, 19)\n",
      "Number of unique outputs: 7\n",
      "{'dataset_name': 'segmentation',\n",
      " 'dataset_shape': '(1000, 19)',\n",
      " 'models': {'JSAutoML': {'fit_time': 39.12536644935608, 'test_score': 0.992},\n",
      "            'PythonAutoML': {'fit_time': 16.56414031982422,\n",
      "                             'test_score': 0.992}}}\n",
      "Fetching data ...\n",
      "shuttle (58000, 9)\n",
      "Number of unique outputs: 5\n",
      "{'dataset_name': 'shuttle',\n",
      " 'dataset_shape': '(1000, 9)',\n",
      " 'models': {'JSAutoML': {'fit_time': 31.779011249542236, 'test_score': 0.988},\n",
      "            'PythonAutoML': {'fit_time': 4.806436061859131,\n",
      "                             'test_score': 0.988}}}\n",
      "Fetching data ...\n",
      "sleep (105908, 13)\n",
      "Number of unique outputs: 5\n"
     ]
    },
    {
     "name": "stderr",
     "output_type": "stream",
     "text": [
      "/home/iaroslav/.local/lib/python3.5/site-packages/sklearn/linear_model/stochastic_gradient.py:166: FutureWarning: max_iter and tol parameters have been added in SGDClassifier in 0.19. If both are left unset, they default to max_iter=5 and tol=None. If tol is not None, max_iter defaults to max_iter=1000. From 0.21, default max_iter will be 1000, and default tol will be 1e-3.\n",
      "  FutureWarning)\n"
     ]
    },
    {
     "name": "stdout",
     "output_type": "stream",
     "text": [
      "{'dataset_name': 'sleep',\n",
      " 'dataset_shape': '(1000, 13)',\n",
      " 'models': {'JSAutoML': {'fit_time': 46.790175437927246, 'test_score': 0.652},\n",
      "            'PythonAutoML': {'fit_time': 10.352214097976685,\n",
      "                             'test_score': 0.688}}}\n",
      "Fetching data ...\n",
      "solar-flare_1 (315, 12)\n",
      "Number of unique outputs: 5\n"
     ]
    },
    {
     "name": "stderr",
     "output_type": "stream",
     "text": [
      "/home/iaroslav/.local/lib/python3.5/site-packages/sklearn/model_selection/_search.py:841: DeprecationWarning: The default of the `iid` parameter will change from True to False in version 0.22 and will be removed in 0.24. This will change numeric results when test-set sizes are unequal.\n",
      "  DeprecationWarning)\n"
     ]
    },
    {
     "name": "stdout",
     "output_type": "stream",
     "text": [
      "{'dataset_name': 'solar-flare_1',\n",
      " 'dataset_shape': '(315, 12)',\n",
      " 'models': {'JSAutoML': {'fit_time': 6.818529367446899,\n",
      "                         'test_score': 0.6835443037974683},\n",
      "            'PythonAutoML': {'fit_time': 4.878744602203369,\n",
      "                             'test_score': 0.7721518987341772}}}\n",
      "Fetching data ...\n",
      "solar-flare_2 (1066, 12)\n",
      "Number of unique outputs: 6\n",
      "{'dataset_name': 'solar-flare_2',\n",
      " 'dataset_shape': '(1000, 12)',\n",
      " 'models': {'JSAutoML': {'fit_time': 12.512019395828247, 'test_score': 0.76},\n",
      "            'PythonAutoML': {'fit_time': 7.178287982940674,\n",
      "                             'test_score': 0.752}}}\n",
      "Fetching data ...\n",
      "sonar (208, 60)\n",
      "Number of unique outputs: 2\n"
     ]
    },
    {
     "name": "stderr",
     "output_type": "stream",
     "text": [
      "/home/iaroslav/.local/lib/python3.5/site-packages/sklearn/model_selection/_search.py:841: DeprecationWarning: The default of the `iid` parameter will change from True to False in version 0.22 and will be removed in 0.24. This will change numeric results when test-set sizes are unequal.\n",
      "  DeprecationWarning)\n"
     ]
    },
    {
     "name": "stdout",
     "output_type": "stream",
     "text": [
      "{'dataset_name': 'sonar',\n",
      " 'dataset_shape': '(208, 60)',\n",
      " 'models': {'JSAutoML': {'fit_time': 23.657986640930176, 'test_score': 0.75},\n",
      "            'PythonAutoML': {'fit_time': 2.559767246246338,\n",
      "                             'test_score': 0.8653846153846154}}}\n",
      "Fetching data ...\n",
      "soybean (675, 35)\n",
      "Number of unique outputs: 18\n"
     ]
    },
    {
     "name": "stderr",
     "output_type": "stream",
     "text": [
      "/home/iaroslav/.local/lib/python3.5/site-packages/sklearn/model_selection/_search.py:841: DeprecationWarning: The default of the `iid` parameter will change from True to False in version 0.22 and will be removed in 0.24. This will change numeric results when test-set sizes are unequal.\n",
      "  DeprecationWarning)\n"
     ]
    },
    {
     "name": "stdout",
     "output_type": "stream",
     "text": [
      "{'dataset_name': 'soybean',\n",
      " 'dataset_shape': '(675, 35)',\n",
      " 'models': {'JSAutoML': {'fit_time': 69.22123956680298,\n",
      "                         'test_score': 0.9230769230769231},\n",
      "            'PythonAutoML': {'fit_time': 25.692301988601685,\n",
      "                             'test_score': 0.9408284023668639}}}\n",
      "Fetching data ...\n",
      "spambase (4601, 57)\n",
      "Fetching data ...\n",
      "spect (267, 22)\n",
      "Number of unique outputs: 2\n"
     ]
    },
    {
     "name": "stderr",
     "output_type": "stream",
     "text": [
      "/home/iaroslav/.local/lib/python3.5/site-packages/sklearn/linear_model/stochastic_gradient.py:166: FutureWarning: max_iter and tol parameters have been added in SGDClassifier in 0.19. If both are left unset, they default to max_iter=5 and tol=None. If tol is not None, max_iter defaults to max_iter=1000. From 0.21, default max_iter will be 1000, and default tol will be 1e-3.\n",
      "  FutureWarning)\n"
     ]
    },
    {
     "name": "stdout",
     "output_type": "stream",
     "text": [
      "{'dataset_name': 'spect',\n",
      " 'dataset_shape': '(267, 22)',\n",
      " 'models': {'JSAutoML': {'fit_time': 4.57684588432312,\n",
      "                         'test_score': 0.835820895522388},\n",
      "            'PythonAutoML': {'fit_time': 1.1786768436431885,\n",
      "                             'test_score': 0.8059701492537313}}}\n",
      "Fetching data ...\n",
      "spectf (349, 44)\n",
      "Number of unique outputs: 2\n"
     ]
    },
    {
     "name": "stderr",
     "output_type": "stream",
     "text": [
      "/home/iaroslav/.local/lib/python3.5/site-packages/sklearn/model_selection/_search.py:841: DeprecationWarning: The default of the `iid` parameter will change from True to False in version 0.22 and will be removed in 0.24. This will change numeric results when test-set sizes are unequal.\n",
      "  DeprecationWarning)\n"
     ]
    },
    {
     "name": "stdout",
     "output_type": "stream",
     "text": [
      "{'dataset_name': 'spectf',\n",
      " 'dataset_shape': '(349, 44)',\n",
      " 'models': {'JSAutoML': {'fit_time': 9.753520250320435,\n",
      "                         'test_score': 0.7840909090909091},\n",
      "            'PythonAutoML': {'fit_time': 2.5143940448760986,\n",
      "                             'test_score': 0.875}}}\n",
      "Fetching data ...\n",
      "splice (3188, 60)\n",
      "Number of unique outputs: 3\n",
      "{'dataset_name': 'splice',\n",
      " 'dataset_shape': '(1000, 60)',\n",
      " 'models': {'JSAutoML': {'fit_time': 73.38970589637756, 'test_score': 0.932},\n",
      "            'PythonAutoML': {'fit_time': 12.889736413955688,\n",
      "                             'test_score': 0.944}}}\n",
      "Fetching data ...\n",
      "tae (151, 5)\n",
      "Number of unique outputs: 3\n"
     ]
    },
    {
     "name": "stderr",
     "output_type": "stream",
     "text": [
      "/home/iaroslav/.local/lib/python3.5/site-packages/sklearn/model_selection/_search.py:841: DeprecationWarning: The default of the `iid` parameter will change from True to False in version 0.22 and will be removed in 0.24. This will change numeric results when test-set sizes are unequal.\n",
      "  DeprecationWarning)\n"
     ]
    },
    {
     "name": "stdout",
     "output_type": "stream",
     "text": [
      "{'dataset_name': 'tae',\n",
      " 'dataset_shape': '(151, 5)',\n",
      " 'models': {'JSAutoML': {'fit_time': 1.6622185707092285,\n",
      "                         'test_score': 0.6052631578947368},\n",
      "            'PythonAutoML': {'fit_time': 4.130390644073486,\n",
      "                             'test_score': 0.5789473684210527}}}\n",
      "Fetching data ...\n",
      "texture (5500, 40)\n",
      "Number of unique outputs: 2\n"
     ]
    },
    {
     "name": "stderr",
     "output_type": "stream",
     "text": [
      "/home/iaroslav/.local/lib/python3.5/site-packages/sklearn/linear_model/stochastic_gradient.py:166: FutureWarning: max_iter and tol parameters have been added in SGDClassifier in 0.19. If both are left unset, they default to max_iter=5 and tol=None. If tol is not None, max_iter defaults to max_iter=1000. From 0.21, default max_iter will be 1000, and default tol will be 1e-3.\n",
      "  FutureWarning)\n"
     ]
    },
    {
     "name": "stdout",
     "output_type": "stream",
     "text": [
      "{'dataset_name': 'texture',\n",
      " 'dataset_shape': '(1000, 40)',\n",
      " 'models': {'JSAutoML': {'fit_time': 41.544899702072144, 'test_score': 0.984},\n",
      "            'PythonAutoML': {'fit_time': 4.889775037765503, 'test_score': 1.0}}}\n",
      "Fetching data ...\n",
      "threeOf9 (512, 9)\n",
      "Number of unique outputs: 2\n"
     ]
    },
    {
     "name": "stderr",
     "output_type": "stream",
     "text": [
      "/home/iaroslav/.local/lib/python3.5/site-packages/sklearn/model_selection/_search.py:841: DeprecationWarning: The default of the `iid` parameter will change from True to False in version 0.22 and will be removed in 0.24. This will change numeric results when test-set sizes are unequal.\n",
      "  DeprecationWarning)\n"
     ]
    },
    {
     "name": "stdout",
     "output_type": "stream",
     "text": [
      "{'dataset_name': 'threeOf9',\n",
      " 'dataset_shape': '(512, 9)',\n",
      " 'models': {'JSAutoML': {'fit_time': 3.792462110519409, 'test_score': 0.984375},\n",
      "            'PythonAutoML': {'fit_time': 1.4565396308898926,\n",
      "                             'test_score': 0.9921875}}}\n",
      "Fetching data ...\n",
      "tic-tac-toe (958, 9)\n",
      "Number of unique outputs: 2\n"
     ]
    },
    {
     "name": "stderr",
     "output_type": "stream",
     "text": [
      "/home/iaroslav/.local/lib/python3.5/site-packages/sklearn/model_selection/_search.py:841: DeprecationWarning: The default of the `iid` parameter will change from True to False in version 0.22 and will be removed in 0.24. This will change numeric results when test-set sizes are unequal.\n",
      "  DeprecationWarning)\n"
     ]
    },
    {
     "name": "stdout",
     "output_type": "stream",
     "text": [
      "{'dataset_name': 'tic-tac-toe',\n",
      " 'dataset_shape': '(958, 9)',\n",
      " 'models': {'JSAutoML': {'fit_time': 9.342680931091309,\n",
      "                         'test_score': 0.8916666666666667},\n",
      "            'PythonAutoML': {'fit_time': 1.4011244773864746,\n",
      "                             'test_score': 1.0}}}\n",
      "Fetching data ...\n",
      "titanic (2201, 3)\n",
      "Number of unique outputs: 2\n",
      "{'dataset_name': 'titanic',\n",
      " 'dataset_shape': '(1000, 3)',\n",
      " 'models': {'JSAutoML': {'fit_time': 2.530794858932495, 'test_score': 0.76},\n",
      "            'PythonAutoML': {'fit_time': 1.3822052478790283,\n",
      "                             'test_score': 0.768}}}\n",
      "Fetching data ...\n",
      "tokyo1 (959, 44)\n",
      "Number of unique outputs: 2\n"
     ]
    },
    {
     "name": "stderr",
     "output_type": "stream",
     "text": [
      "/home/iaroslav/.local/lib/python3.5/site-packages/sklearn/model_selection/_search.py:841: DeprecationWarning: The default of the `iid` parameter will change from True to False in version 0.22 and will be removed in 0.24. This will change numeric results when test-set sizes are unequal.\n",
      "  DeprecationWarning)\n"
     ]
    },
    {
     "name": "stdout",
     "output_type": "stream",
     "text": [
      "{'dataset_name': 'tokyo1',\n",
      " 'dataset_shape': '(959, 44)',\n",
      " 'models': {'JSAutoML': {'fit_time': 86.38873052597046, 'test_score': 0.9125},\n",
      "            'PythonAutoML': {'fit_time': 6.119101285934448,\n",
      "                             'test_score': 0.9375}}}\n",
      "Fetching data ...\n",
      "twonorm (7400, 20)\n",
      "Number of unique outputs: 2\n"
     ]
    },
    {
     "name": "stderr",
     "output_type": "stream",
     "text": [
      "/home/iaroslav/.local/lib/python3.5/site-packages/sklearn/linear_model/stochastic_gradient.py:166: FutureWarning: max_iter and tol parameters have been added in SGDClassifier in 0.19. If both are left unset, they default to max_iter=5 and tol=None. If tol is not None, max_iter defaults to max_iter=1000. From 0.21, default max_iter will be 1000, and default tol will be 1e-3.\n",
      "  FutureWarning)\n"
     ]
    },
    {
     "name": "stdout",
     "output_type": "stream",
     "text": [
      "{'dataset_name': 'twonorm',\n",
      " 'dataset_shape': '(1000, 20)',\n",
      " 'models': {'JSAutoML': {'fit_time': 9.654637098312378, 'test_score': 0.94},\n",
      "            'PythonAutoML': {'fit_time': 4.118236780166626,\n",
      "                             'test_score': 0.976}}}\n",
      "Fetching data ...\n",
      "vehicle (846, 18)\n",
      "Number of unique outputs: 4\n"
     ]
    },
    {
     "name": "stderr",
     "output_type": "stream",
     "text": [
      "/home/iaroslav/.local/lib/python3.5/site-packages/sklearn/model_selection/_search.py:841: DeprecationWarning: The default of the `iid` parameter will change from True to False in version 0.22 and will be removed in 0.24. This will change numeric results when test-set sizes are unequal.\n",
      "  DeprecationWarning)\n"
     ]
    },
    {
     "name": "stdout",
     "output_type": "stream",
     "text": [
      "{'dataset_name': 'vehicle',\n",
      " 'dataset_shape': '(846, 18)',\n",
      " 'models': {'JSAutoML': {'fit_time': 34.853277921676636,\n",
      "                         'test_score': 0.7452830188679245},\n",
      "            'PythonAutoML': {'fit_time': 11.182646751403809,\n",
      "                             'test_score': 0.7924528301886793}}}\n",
      "Fetching data ...\n",
      "vote (435, 16)\n",
      "Number of unique outputs: 2\n"
     ]
    },
    {
     "name": "stderr",
     "output_type": "stream",
     "text": [
      "/home/iaroslav/.local/lib/python3.5/site-packages/sklearn/model_selection/_search.py:841: DeprecationWarning: The default of the `iid` parameter will change from True to False in version 0.22 and will be removed in 0.24. This will change numeric results when test-set sizes are unequal.\n",
      "  DeprecationWarning)\n",
      "/home/iaroslav/.local/lib/python3.5/site-packages/sklearn/linear_model/stochastic_gradient.py:166: FutureWarning: max_iter and tol parameters have been added in SGDClassifier in 0.19. If both are left unset, they default to max_iter=5 and tol=None. If tol is not None, max_iter defaults to max_iter=1000. From 0.21, default max_iter will be 1000, and default tol will be 1e-3.\n",
      "  FutureWarning)\n"
     ]
    },
    {
     "name": "stdout",
     "output_type": "stream",
     "text": [
      "{'dataset_name': 'vote',\n",
      " 'dataset_shape': '(435, 16)',\n",
      " 'models': {'JSAutoML': {'fit_time': 5.658800840377808,\n",
      "                         'test_score': 0.9724770642201835},\n",
      "            'PythonAutoML': {'fit_time': 0.9772236347198486,\n",
      "                             'test_score': 0.9357798165137615}}}\n",
      "Fetching data ...\n",
      "vowel (990, 13)\n",
      "Number of unique outputs: 11\n"
     ]
    },
    {
     "name": "stderr",
     "output_type": "stream",
     "text": [
      "/home/iaroslav/.local/lib/python3.5/site-packages/sklearn/model_selection/_search.py:841: DeprecationWarning: The default of the `iid` parameter will change from True to False in version 0.22 and will be removed in 0.24. This will change numeric results when test-set sizes are unequal.\n",
      "  DeprecationWarning)\n"
     ]
    },
    {
     "name": "stdout",
     "output_type": "stream",
     "text": [
      "{'dataset_name': 'vowel',\n",
      " 'dataset_shape': '(990, 13)',\n",
      " 'models': {'JSAutoML': {'fit_time': 129.04604148864746,\n",
      "                         'test_score': 0.7943548387096774},\n",
      "            'PythonAutoML': {'fit_time': 26.136409282684326,\n",
      "                             'test_score': 0.8911290322580645}}}\n",
      "Fetching data ...\n",
      "waveform-21 (5000, 21)\n",
      "Number of unique outputs: 3\n"
     ]
    },
    {
     "name": "stderr",
     "output_type": "stream",
     "text": [
      "/home/iaroslav/.local/lib/python3.5/site-packages/sklearn/linear_model/stochastic_gradient.py:166: FutureWarning: max_iter and tol parameters have been added in SGDClassifier in 0.19. If both are left unset, they default to max_iter=5 and tol=None. If tol is not None, max_iter defaults to max_iter=1000. From 0.21, default max_iter will be 1000, and default tol will be 1e-3.\n",
      "  FutureWarning)\n"
     ]
    },
    {
     "name": "stdout",
     "output_type": "stream",
     "text": [
      "{'dataset_name': 'waveform-21',\n",
      " 'dataset_shape': '(1000, 21)',\n",
      " 'models': {'JSAutoML': {'fit_time': 16.778786420822144, 'test_score': 0.808},\n",
      "            'PythonAutoML': {'fit_time': 8.238899946212769,\n",
      "                             'test_score': 0.86}}}\n",
      "Fetching data ...\n",
      "waveform-40 (5000, 40)\n",
      "Number of unique outputs: 3\n"
     ]
    },
    {
     "name": "stderr",
     "output_type": "stream",
     "text": [
      "/home/iaroslav/.local/lib/python3.5/site-packages/sklearn/linear_model/stochastic_gradient.py:166: FutureWarning: max_iter and tol parameters have been added in SGDClassifier in 0.19. If both are left unset, they default to max_iter=5 and tol=None. If tol is not None, max_iter defaults to max_iter=1000. From 0.21, default max_iter will be 1000, and default tol will be 1e-3.\n",
      "  FutureWarning)\n"
     ]
    },
    {
     "name": "stdout",
     "output_type": "stream",
     "text": [
      "{'dataset_name': 'waveform-40',\n",
      " 'dataset_shape': '(1000, 40)',\n",
      " 'models': {'JSAutoML': {'fit_time': 93.77021288871765, 'test_score': 0.828},\n",
      "            'PythonAutoML': {'fit_time': 11.97909688949585,\n",
      "                             'test_score': 0.84}}}\n",
      "Fetching data ...\n",
      "wdbc (569, 30)\n",
      "Number of unique outputs: 2\n"
     ]
    },
    {
     "name": "stderr",
     "output_type": "stream",
     "text": [
      "/home/iaroslav/.local/lib/python3.5/site-packages/sklearn/model_selection/_search.py:841: DeprecationWarning: The default of the `iid` parameter will change from True to False in version 0.22 and will be removed in 0.24. This will change numeric results when test-set sizes are unequal.\n",
      "  DeprecationWarning)\n",
      "/home/iaroslav/.local/lib/python3.5/site-packages/sklearn/linear_model/stochastic_gradient.py:166: FutureWarning: max_iter and tol parameters have been added in SGDClassifier in 0.19. If both are left unset, they default to max_iter=5 and tol=None. If tol is not None, max_iter defaults to max_iter=1000. From 0.21, default max_iter will be 1000, and default tol will be 1e-3.\n",
      "  FutureWarning)\n"
     ]
    },
    {
     "name": "stdout",
     "output_type": "stream",
     "text": [
      "{'dataset_name': 'wdbc',\n",
      " 'dataset_shape': '(569, 30)',\n",
      " 'models': {'JSAutoML': {'fit_time': 18.626016855239868,\n",
      "                         'test_score': 0.9300699300699301},\n",
      "            'PythonAutoML': {'fit_time': 2.7854437828063965,\n",
      "                             'test_score': 0.965034965034965}}}\n",
      "Fetching data ...\n",
      "wine-quality-red (1599, 11)\n",
      "Number of unique outputs: 6\n",
      "{'dataset_name': 'wine-quality-red',\n",
      " 'dataset_shape': '(1000, 11)',\n",
      " 'models': {'JSAutoML': {'fit_time': 36.43479800224304, 'test_score': 0.624},\n",
      "            'PythonAutoML': {'fit_time': 8.451518058776855,\n",
      "                             'test_score': 0.628}}}\n",
      "Fetching data ...\n",
      "wine-quality-white (4893, 11)\n",
      "Number of unique outputs: 6\n",
      "{'dataset_name': 'wine-quality-white',\n",
      " 'dataset_shape': '(1000, 11)',\n",
      " 'models': {'JSAutoML': {'fit_time': 25.174513339996338, 'test_score': 0.524},\n",
      "            'PythonAutoML': {'fit_time': 8.14080262184143,\n",
      "                             'test_score': 0.608}}}\n",
      "Fetching data ...\n",
      "wine-recognition (178, 13)\n",
      "Number of unique outputs: 3\n"
     ]
    },
    {
     "name": "stderr",
     "output_type": "stream",
     "text": [
      "/home/iaroslav/.local/lib/python3.5/site-packages/sklearn/model_selection/_search.py:841: DeprecationWarning: The default of the `iid` parameter will change from True to False in version 0.22 and will be removed in 0.24. This will change numeric results when test-set sizes are unequal.\n",
      "  DeprecationWarning)\n",
      "/home/iaroslav/.local/lib/python3.5/site-packages/sklearn/linear_model/stochastic_gradient.py:166: FutureWarning: max_iter and tol parameters have been added in SGDClassifier in 0.19. If both are left unset, they default to max_iter=5 and tol=None. If tol is not None, max_iter defaults to max_iter=1000. From 0.21, default max_iter will be 1000, and default tol will be 1e-3.\n",
      "  FutureWarning)\n"
     ]
    },
    {
     "name": "stdout",
     "output_type": "stream",
     "text": [
      "{'dataset_name': 'wine-recognition',\n",
      " 'dataset_shape': '(178, 13)',\n",
      " 'models': {'JSAutoML': {'fit_time': 7.441258668899536,\n",
      "                         'test_score': 0.9777777777777777},\n",
      "            'PythonAutoML': {'fit_time': 3.204397439956665, 'test_score': 1.0}}}\n",
      "Fetching data ...\n",
      "xd6 (973, 9)\n",
      "Number of unique outputs: 2\n"
     ]
    },
    {
     "name": "stderr",
     "output_type": "stream",
     "text": [
      "/home/iaroslav/.local/lib/python3.5/site-packages/sklearn/model_selection/_search.py:841: DeprecationWarning: The default of the `iid` parameter will change from True to False in version 0.22 and will be removed in 0.24. This will change numeric results when test-set sizes are unequal.\n",
      "  DeprecationWarning)\n"
     ]
    },
    {
     "name": "stdout",
     "output_type": "stream",
     "text": [
      "{'dataset_name': 'xd6',\n",
      " 'dataset_shape': '(973, 9)',\n",
      " 'models': {'JSAutoML': {'fit_time': 7.329513072967529, 'test_score': 1.0},\n",
      "            'PythonAutoML': {'fit_time': 1.968522548675537, 'test_score': 1.0}}}\n",
      "Fetching data ...\n",
      "yeast (1479, 8)\n",
      "Number of unique outputs: 9\n",
      "{'dataset_name': 'yeast',\n",
      " 'dataset_shape': '(1000, 8)',\n",
      " 'models': {'JSAutoML': {'fit_time': 42.5194365978241, 'test_score': 0.568},\n",
      "            'PythonAutoML': {'fit_time': 14.499619722366333,\n",
      "                             'test_score': 0.584}}}\n"
     ]
    }
   ],
   "source": [
    "from sklearn.model_selection import train_test_split\n",
    "from sklearn.tree import DecisionTreeClassifier, DecisionTreeRegressor\n",
    "from sklearn.linear_model import SGDClassifier, SGDRegressor\n",
    "from sklearn.preprocessing import Imputer, StandardScaler\n",
    "from sklearn.pipeline import make_pipeline\n",
    "from sklearn.metrics import accuracy_score, r2_score\n",
    "\n",
    "\n",
    "from tqdm import tqdm\n",
    "from itertools import product\n",
    "from pprint import pprint\n",
    "from pmlb import classification_dataset_names, regression_dataset_names\n",
    "\n",
    "############################################ SETTINGS ############################################\n",
    "models = [PythonAutoML, JSAutoML]\n",
    "max_size = 1000\n",
    "data_classification = True\n",
    "############################################ SETTINGS ############################################\n",
    "\n",
    "results = []\n",
    "\n",
    "datasets = classification_dataset_names if data_classification else regression_dataset_names\n",
    "metric = accuracy_score if data_classification else r2_score\n",
    "\n",
    "for name in datasets:\n",
    "    if name in {'1191_BNG_pbc', '1595_poker'}:\n",
    "        continue\n",
    "    print('Fetching data ...')\n",
    "    \n",
    "    X, y = pmlb.fetch_data(name, True, local_cache_dir='/home/iaroslav/.cache/pmlb')\n",
    "    print(name, X.shape)\n",
    "    \n",
    "    # skip too many features for now\n",
    "    if X.shape[-1] >= 500:\n",
    "        continue\n",
    "    \n",
    "    # make datasets small for testing\n",
    "    if len(y) > max_size:\n",
    "        X = X[:max_size]\n",
    "        y = y[:max_size]\n",
    "        \n",
    "    # skip datasets with constant outputs\n",
    "    unique_outputs = len(set(y))\n",
    "    \n",
    "    if(unique_outputs < 2):\n",
    "        continue\n",
    "    \n",
    "    print('Number of unique outputs: %s' % unique_outputs)\n",
    "    \n",
    "    if data_classification:\n",
    "        # disambiguation with e.g. integer class labels\n",
    "        y = np.array(['class_' + str(v) for v in y])\n",
    "    \n",
    "    # make training and testing partitions\n",
    "    X_train, X_test, y_train, y_test = train_test_split(X, y, random_state=0)\n",
    "    \n",
    "    result_dataset = {\n",
    "        'dataset_name': name,\n",
    "        'dataset_shape': str(X.shape),\n",
    "        'models': {}\n",
    "    }\n",
    "    \n",
    "    for model in models:\n",
    "        inst = model()\n",
    "        result = inst.fit_predict(X_train, y_train, X_test)\n",
    "        y_pred = result['y_pred']\n",
    "        del result['y_pred']\n",
    "        score = metric(y_test, y_pred)\n",
    "        result['test_score'] = score\n",
    "        result_dataset['models'][model.__name__] = result\n",
    "    \n",
    "    pprint(result_dataset)\n",
    "    results.append(result_dataset)"
   ]
  },
  {
   "cell_type": "markdown",
   "metadata": {},
   "source": [
    "## Final evaluation\n",
    "\n",
    "The results are summarized here. "
   ]
  },
  {
   "cell_type": "code",
   "execution_count": 5,
   "metadata": {},
   "outputs": [
    {
     "data": {
      "text/html": [
       "<div>\n",
       "<style scoped>\n",
       "    .dataframe tbody tr th:only-of-type {\n",
       "        vertical-align: middle;\n",
       "    }\n",
       "\n",
       "    .dataframe tbody tr th {\n",
       "        vertical-align: top;\n",
       "    }\n",
       "\n",
       "    .dataframe thead th {\n",
       "        text-align: right;\n",
       "    }\n",
       "</style>\n",
       "<table border=\"1\" class=\"dataframe\">\n",
       "  <thead>\n",
       "    <tr style=\"text-align: right;\">\n",
       "      <th></th>\n",
       "      <th>JSAutoML_fit_time</th>\n",
       "      <th>JSAutoML_test_score</th>\n",
       "      <th>PythonAutoML_fit_time</th>\n",
       "      <th>PythonAutoML_test_score</th>\n",
       "    </tr>\n",
       "  </thead>\n",
       "  <tbody>\n",
       "    <tr>\n",
       "      <th>count</th>\n",
       "      <td>160.000</td>\n",
       "      <td>160.000</td>\n",
       "      <td>160.000</td>\n",
       "      <td>160.000</td>\n",
       "    </tr>\n",
       "    <tr>\n",
       "      <th>mean</th>\n",
       "      <td>27.537</td>\n",
       "      <td>0.811</td>\n",
       "      <td>6.427</td>\n",
       "      <td>0.831</td>\n",
       "    </tr>\n",
       "    <tr>\n",
       "      <th>std</th>\n",
       "      <td>58.150</td>\n",
       "      <td>0.165</td>\n",
       "      <td>8.711</td>\n",
       "      <td>0.160</td>\n",
       "    </tr>\n",
       "    <tr>\n",
       "      <th>min</th>\n",
       "      <td>0.521</td>\n",
       "      <td>0.195</td>\n",
       "      <td>0.687</td>\n",
       "      <td>0.220</td>\n",
       "    </tr>\n",
       "    <tr>\n",
       "      <th>25%</th>\n",
       "      <td>2.778</td>\n",
       "      <td>0.717</td>\n",
       "      <td>1.396</td>\n",
       "      <td>0.757</td>\n",
       "    </tr>\n",
       "    <tr>\n",
       "      <th>50%</th>\n",
       "      <td>9.704</td>\n",
       "      <td>0.833</td>\n",
       "      <td>3.279</td>\n",
       "      <td>0.856</td>\n",
       "    </tr>\n",
       "    <tr>\n",
       "      <th>75%</th>\n",
       "      <td>21.925</td>\n",
       "      <td>0.948</td>\n",
       "      <td>7.502</td>\n",
       "      <td>0.964</td>\n",
       "    </tr>\n",
       "    <tr>\n",
       "      <th>max</th>\n",
       "      <td>432.243</td>\n",
       "      <td>1.000</td>\n",
       "      <td>64.128</td>\n",
       "      <td>1.000</td>\n",
       "    </tr>\n",
       "  </tbody>\n",
       "</table>\n",
       "</div>"
      ],
      "text/plain": [
       "       JSAutoML_fit_time  JSAutoML_test_score  PythonAutoML_fit_time  \\\n",
       "count            160.000              160.000                160.000   \n",
       "mean              27.537                0.811                  6.427   \n",
       "std               58.150                0.165                  8.711   \n",
       "min                0.521                0.195                  0.687   \n",
       "25%                2.778                0.717                  1.396   \n",
       "50%                9.704                0.833                  3.279   \n",
       "75%               21.925                0.948                  7.502   \n",
       "max              432.243                1.000                 64.128   \n",
       "\n",
       "       PythonAutoML_test_score  \n",
       "count                  160.000  \n",
       "mean                     0.831  \n",
       "std                      0.160  \n",
       "min                      0.220  \n",
       "25%                      0.757  \n",
       "50%                      0.856  \n",
       "75%                      0.964  \n",
       "max                      1.000  "
      ]
     },
     "metadata": {},
     "output_type": "display_data"
    }
   ],
   "source": [
    "import pandas as pd\n",
    "\n",
    "I = []  # this will be the index of the df\n",
    "rows = []\n",
    "for result in results:\n",
    "    I.append(result['dataset_name'])\n",
    "    row = {}\n",
    "    for model_name, stats in result['models'].items():\n",
    "        for stat in stats:\n",
    "            row[model_name + \"_\" + stat] = stats[stat]\n",
    "    rows.append(row)\n",
    "\n",
    "df = pd.DataFrame(data=rows, index=I)\n",
    "\n",
    "display(df.describe().round(3))"
   ]
  }
 ],
 "metadata": {
  "kernelspec": {
   "display_name": "Python 3",
   "language": "python",
   "name": "python3"
  },
  "language_info": {
   "codemirror_mode": {
    "name": "ipython",
    "version": 3
   },
   "file_extension": ".py",
   "mimetype": "text/x-python",
   "name": "python",
   "nbconvert_exporter": "python",
   "pygments_lexer": "ipython3",
   "version": "3.5.2"
  }
 },
 "nbformat": 4,
 "nbformat_minor": 2
}
