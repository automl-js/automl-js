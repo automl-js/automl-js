{
 "cells": [
  {
   "cell_type": "markdown",
   "metadata": {},
   "source": [
    "# Comparison to sklearn estimators\n",
    "\n",
    "Scikit-Learn is a popular machine learning library, which has been tested many times in practical applications. If the current library can match scikit - learn in it's performance, this is a good indicator of quality of the library. For such comparison, the benchmarks in this notebook are given."
   ]
  },
  {
   "cell_type": "code",
   "execution_count": 1,
   "metadata": {},
   "outputs": [],
   "source": [
    "from subprocess import call, DEVNULL\n",
    "import numpy as np\n",
    "import pmlb\n",
    "import json\n",
    "from time import time\n",
    "import os\n",
    "import random"
   ]
  },
  {
   "cell_type": "markdown",
   "metadata": {},
   "source": [
    "## Execute estimator in javascript\n",
    "\n",
    "As the names of the parameters and estimators mirror those of sklearn, it is relatively easy to execute the estimators in javascript. Implementation is given below."
   ]
  },
  {
   "cell_type": "code",
   "execution_count": 2,
   "metadata": {},
   "outputs": [],
   "source": [
    "def compare_estimator(X, y, X_test, y_test, estimator, params):\n",
    "    node_code = \"\"\"\n",
    "const ai = require('../src/automljs')\n",
    "const fs = require('fs')\n",
    "var data = JSON.parse(fs.readFileSync('data.json', 'utf8'));\n",
    "\n",
    "async function main(){\n",
    "    var X = data['X'];\n",
    "    var y = data['y'];\n",
    "    var X_test = data['X_test'];\n",
    "    var y_test = data['y_test'];\n",
    "\n",
    "    // read estimator from the serialization module\n",
    "    var model = new ai.io.base_estimators['%s'](%s)\n",
    "\n",
    "    var fit_start = process.hrtime();\n",
    "    await model.fit(X, y)\n",
    "    var elapsed = process.hrtime(fit_start)[1] / 1000000; // divide by a million to get nano to milli\n",
    "\n",
    "    var score = await model.score(X_test, y_test)\n",
    "    var res = {\n",
    "        'score': score, 'runtime': elapsed\n",
    "    }\n",
    "    await fs.writeFile('result.json', JSON.stringify(res), 'utf8', function(){ })\n",
    "}\n",
    "\n",
    "main()\n",
    "    \"\"\" % (\n",
    "        estimator.__class__.__name__, \n",
    "        json.dumps(params)\n",
    "        )\n",
    "    \n",
    "    with open('./script.js', 'w') as s:\n",
    "        s.write(node_code)\n",
    "    \n",
    "    with open('./data.json', 'w') as d:\n",
    "        json.dump({\n",
    "            'X': X.tolist(),\n",
    "            'y': y.tolist(),\n",
    "            'X_test': X_test.tolist(),\n",
    "            'y_test': y_test.tolist(),\n",
    "        }, d)\n",
    "    \n",
    "    \n",
    "    call(['node script.js'], shell=True)\n",
    "    \n",
    "    result = None\n",
    "    with open('./result.json', 'r') as js:\n",
    "        javascript = json.load(js)\n",
    "    \n",
    "    estimator.set_params(**params)\n",
    "    \n",
    "    start = time()\n",
    "    estimator.fit(X, y)\n",
    "    elapsed = (time() - start)*1000.0 # miliseconds\n",
    "\n",
    "    # clean up\n",
    "    os.remove('./script.js')\n",
    "    os.remove('./result.json')\n",
    "    os.remove('./data.json')\n",
    "\n",
    "    return {\n",
    "        'python_score': estimator.score(X_test, y_test),\n",
    "        'python_runtime': elapsed,\n",
    "        'javascript_score': javascript['score'],\n",
    "        'javascript_runtime': javascript['runtime']\n",
    "    }"
   ]
  },
  {
   "cell_type": "markdown",
   "metadata": {},
   "source": [
    "## Benchmarks!"
   ]
  },
  {
   "cell_type": "code",
   "execution_count": 8,
   "metadata": {},
   "outputs": [
    {
     "name": "stdout",
     "output_type": "stream",
     "text": [
      "GAMETES_Epistasis_2-Way_1000atts_0.4H_EDM-1_EDM-1_1 (1600, 1000)\n",
      "{'javascript_runtime': 73.982037,\n",
      " 'javascript_score': 0.784,\n",
      " 'python_runtime': 776.3168811798096,\n",
      " 'python_score': 0.8}\n",
      "GAMETES_Epistasis_2-Way_20atts_0.1H_EDM-1_1 (1600, 20)\n",
      "{'javascript_runtime': 539.087968,\n",
      " 'javascript_score': 0.8,\n",
      " 'python_runtime': 30.742168426513672,\n",
      " 'python_score': 0.8}\n",
      "GAMETES_Epistasis_2-Way_20atts_0.4H_EDM-1_1 (1600, 20)\n",
      "{'javascript_runtime': 532.397127,\n",
      " 'javascript_score': 0.8,\n",
      " 'python_runtime': 30.88831901550293,\n",
      " 'python_score': 0.8}\n",
      "GAMETES_Epistasis_3-Way_20atts_0.2H_EDM-1_1 (1600, 20)\n",
      "{'javascript_runtime': 566.301032,\n",
      " 'javascript_score': 0.8,\n",
      " 'python_runtime': 29.201030731201172,\n",
      " 'python_score': 0.8}\n",
      "GAMETES_Heterogeneity_20atts_1600_Het_0.4_0.2_50_EDM-2_001 (1600, 20)\n",
      "{'javascript_runtime': 541.109707,\n",
      " 'javascript_score': 0.8,\n",
      " 'python_runtime': 30.64894676208496,\n",
      " 'python_score': 0.8}\n",
      "GAMETES_Heterogeneity_20atts_1600_Het_0.4_0.2_75_EDM-2_001 (1600, 20)\n",
      "{'javascript_runtime': 543.223049,\n",
      " 'javascript_score': 0.8,\n",
      " 'python_runtime': 28.78284454345703,\n",
      " 'python_score': 0.8}\n",
      "Hill_Valley_with_noise (1212, 100)\n",
      "{'javascript_runtime': 517.006304,\n",
      " 'javascript_score': 0.5,\n",
      " 'python_runtime': 118.86215209960938,\n",
      " 'python_score': 0.512}\n",
      "Hill_Valley_without_noise (1212, 100)\n",
      "{'javascript_runtime': 488.735771,\n",
      " 'javascript_score': 0.508,\n",
      " 'python_runtime': 115.54646492004395,\n",
      " 'python_score': 0.496}\n",
      "adult (48842, 14)\n",
      "{'javascript_runtime': 430.186126,\n",
      " 'javascript_score': 0.828,\n",
      " 'python_runtime': 18.87059211730957,\n",
      " 'python_score': 0.804}\n",
      "agaricus-lepiota (8145, 22)\n",
      "{'javascript_runtime': 622.354557,\n",
      " 'javascript_score': 0.876,\n",
      " 'python_runtime': 22.571325302124023,\n",
      " 'python_score': 0.876}\n",
      "allbp (3772, 29)\n",
      "{'javascript_runtime': 124.335487,\n",
      " 'javascript_score': 0.952,\n",
      " 'python_runtime': 73.46868515014648,\n",
      " 'python_score': 0.956}\n",
      "allhyper (3771, 29)\n",
      "{'javascript_runtime': 131.135617,\n",
      " 'javascript_score': 0.964,\n",
      " 'python_runtime': 82.55600929260254,\n",
      " 'python_score': 0.964}\n",
      "allhypo (3770, 29)\n",
      "{'javascript_runtime': 127.92166,\n",
      " 'javascript_score': 0.944,\n",
      " 'python_runtime': 75.71005821228027,\n",
      " 'python_score': 0.944}\n",
      "allrep (3772, 29)\n",
      "{'javascript_runtime': 479.214887,\n",
      " 'javascript_score': 0.972,\n",
      " 'python_runtime': 96.90427780151367,\n",
      " 'python_score': 0.972}\n",
      "analcatdata_aids (50, 4)\n",
      "{'javascript_runtime': 20.973024,\n",
      " 'javascript_score': 0.6153846153846154,\n",
      " 'python_runtime': 1.1858940124511719,\n",
      " 'python_score': 0.7692307692307693}\n",
      "analcatdata_asbestos (83, 3)\n",
      "{'javascript_runtime': 23.841183,\n",
      " 'javascript_score': 0.7619047619047619,\n",
      " 'python_runtime': 1.4603137969970703,\n",
      " 'python_score': 0.7619047619047619}\n",
      "analcatdata_authorship (841, 70)\n"
     ]
    },
    {
     "ename": "KeyboardInterrupt",
     "evalue": "",
     "output_type": "error",
     "traceback": [
      "\u001b[0;31m---------------------------------------------------------------------------\u001b[0m",
      "\u001b[0;31mKeyboardInterrupt\u001b[0m                         Traceback (most recent call last)",
      "\u001b[0;32m<ipython-input-8-5718c65687ff>\u001b[0m in \u001b[0;36m<module>\u001b[0;34m()\u001b[0m\n\u001b[1;32m     40\u001b[0m     \u001b[0mX_test\u001b[0m \u001b[0;34m=\u001b[0m \u001b[0mfeats\u001b[0m\u001b[0;34m.\u001b[0m\u001b[0mtransform\u001b[0m\u001b[0;34m(\u001b[0m\u001b[0mX_test\u001b[0m\u001b[0;34m)\u001b[0m\u001b[0;34m\u001b[0m\u001b[0m\n\u001b[1;32m     41\u001b[0m \u001b[0;34m\u001b[0m\u001b[0m\n\u001b[0;32m---> 42\u001b[0;31m     \u001b[0mresult\u001b[0m \u001b[0;34m=\u001b[0m \u001b[0mcompare_estimator\u001b[0m\u001b[0;34m(\u001b[0m\u001b[0mX_train\u001b[0m\u001b[0;34m,\u001b[0m \u001b[0my_train\u001b[0m\u001b[0;34m,\u001b[0m \u001b[0mX_test\u001b[0m\u001b[0;34m,\u001b[0m \u001b[0my_test\u001b[0m\u001b[0;34m,\u001b[0m \u001b[0mestimator\u001b[0m\u001b[0;34m,\u001b[0m \u001b[0mparams\u001b[0m\u001b[0;34m)\u001b[0m\u001b[0;34m\u001b[0m\u001b[0m\n\u001b[0m\u001b[1;32m     43\u001b[0m     \u001b[0mpprint\u001b[0m\u001b[0;34m(\u001b[0m\u001b[0mresult\u001b[0m\u001b[0;34m,\u001b[0m \u001b[0mwidth\u001b[0m\u001b[0;34m=\u001b[0m\u001b[0;36m40\u001b[0m\u001b[0;34m)\u001b[0m\u001b[0;34m\u001b[0m\u001b[0m\n\u001b[1;32m     44\u001b[0m     \u001b[0mresults\u001b[0m\u001b[0;34m.\u001b[0m\u001b[0mappend\u001b[0m\u001b[0;34m(\u001b[0m\u001b[0mresult\u001b[0m\u001b[0;34m)\u001b[0m\u001b[0;34m\u001b[0m\u001b[0m\n",
      "\u001b[0;32m<ipython-input-2-e3c5b8202bc1>\u001b[0m in \u001b[0;36mcompare_estimator\u001b[0;34m(X, y, X_test, y_test, estimator, params)\u001b[0m\n\u001b[1;32m     43\u001b[0m \u001b[0;34m\u001b[0m\u001b[0m\n\u001b[1;32m     44\u001b[0m \u001b[0;34m\u001b[0m\u001b[0m\n\u001b[0;32m---> 45\u001b[0;31m     \u001b[0mcall\u001b[0m\u001b[0;34m(\u001b[0m\u001b[0;34m[\u001b[0m\u001b[0;34m'node script.js'\u001b[0m\u001b[0;34m]\u001b[0m\u001b[0;34m,\u001b[0m \u001b[0mshell\u001b[0m\u001b[0;34m=\u001b[0m\u001b[0;32mTrue\u001b[0m\u001b[0;34m)\u001b[0m\u001b[0;34m\u001b[0m\u001b[0m\n\u001b[0m\u001b[1;32m     46\u001b[0m \u001b[0;34m\u001b[0m\u001b[0m\n\u001b[1;32m     47\u001b[0m     \u001b[0mresult\u001b[0m \u001b[0;34m=\u001b[0m \u001b[0;32mNone\u001b[0m\u001b[0;34m\u001b[0m\u001b[0m\n",
      "\u001b[0;32m/usr/lib/python3.5/subprocess.py\u001b[0m in \u001b[0;36mcall\u001b[0;34m(timeout, *popenargs, **kwargs)\u001b[0m\n\u001b[1;32m    557\u001b[0m     \u001b[0;32mwith\u001b[0m \u001b[0mPopen\u001b[0m\u001b[0;34m(\u001b[0m\u001b[0;34m*\u001b[0m\u001b[0mpopenargs\u001b[0m\u001b[0;34m,\u001b[0m \u001b[0;34m**\u001b[0m\u001b[0mkwargs\u001b[0m\u001b[0;34m)\u001b[0m \u001b[0;32mas\u001b[0m \u001b[0mp\u001b[0m\u001b[0;34m:\u001b[0m\u001b[0;34m\u001b[0m\u001b[0m\n\u001b[1;32m    558\u001b[0m         \u001b[0;32mtry\u001b[0m\u001b[0;34m:\u001b[0m\u001b[0;34m\u001b[0m\u001b[0m\n\u001b[0;32m--> 559\u001b[0;31m             \u001b[0;32mreturn\u001b[0m \u001b[0mp\u001b[0m\u001b[0;34m.\u001b[0m\u001b[0mwait\u001b[0m\u001b[0;34m(\u001b[0m\u001b[0mtimeout\u001b[0m\u001b[0;34m=\u001b[0m\u001b[0mtimeout\u001b[0m\u001b[0;34m)\u001b[0m\u001b[0;34m\u001b[0m\u001b[0m\n\u001b[0m\u001b[1;32m    560\u001b[0m         \u001b[0;32mexcept\u001b[0m\u001b[0;34m:\u001b[0m\u001b[0;34m\u001b[0m\u001b[0m\n\u001b[1;32m    561\u001b[0m             \u001b[0mp\u001b[0m\u001b[0;34m.\u001b[0m\u001b[0mkill\u001b[0m\u001b[0;34m(\u001b[0m\u001b[0;34m)\u001b[0m\u001b[0;34m\u001b[0m\u001b[0m\n",
      "\u001b[0;32m/usr/lib/python3.5/subprocess.py\u001b[0m in \u001b[0;36mwait\u001b[0;34m(self, timeout, endtime)\u001b[0m\n\u001b[1;32m   1656\u001b[0m                         \u001b[0;32mif\u001b[0m \u001b[0mself\u001b[0m\u001b[0;34m.\u001b[0m\u001b[0mreturncode\u001b[0m \u001b[0;32mis\u001b[0m \u001b[0;32mnot\u001b[0m \u001b[0;32mNone\u001b[0m\u001b[0;34m:\u001b[0m\u001b[0;34m\u001b[0m\u001b[0m\n\u001b[1;32m   1657\u001b[0m                             \u001b[0;32mbreak\u001b[0m  \u001b[0;31m# Another thread waited.\u001b[0m\u001b[0;34m\u001b[0m\u001b[0m\n\u001b[0;32m-> 1658\u001b[0;31m                         \u001b[0;34m(\u001b[0m\u001b[0mpid\u001b[0m\u001b[0;34m,\u001b[0m \u001b[0msts\u001b[0m\u001b[0;34m)\u001b[0m \u001b[0;34m=\u001b[0m \u001b[0mself\u001b[0m\u001b[0;34m.\u001b[0m\u001b[0m_try_wait\u001b[0m\u001b[0;34m(\u001b[0m\u001b[0;36m0\u001b[0m\u001b[0;34m)\u001b[0m\u001b[0;34m\u001b[0m\u001b[0m\n\u001b[0m\u001b[1;32m   1659\u001b[0m                         \u001b[0;31m# Check the pid and loop as waitpid has been known to\u001b[0m\u001b[0;34m\u001b[0m\u001b[0;34m\u001b[0m\u001b[0m\n\u001b[1;32m   1660\u001b[0m                         \u001b[0;31m# return 0 even without WNOHANG in odd situations.\u001b[0m\u001b[0;34m\u001b[0m\u001b[0;34m\u001b[0m\u001b[0m\n",
      "\u001b[0;32m/usr/lib/python3.5/subprocess.py\u001b[0m in \u001b[0;36m_try_wait\u001b[0;34m(self, wait_flags)\u001b[0m\n\u001b[1;32m   1606\u001b[0m             \u001b[0;34m\"\"\"All callers to this function MUST hold self._waitpid_lock.\"\"\"\u001b[0m\u001b[0;34m\u001b[0m\u001b[0m\n\u001b[1;32m   1607\u001b[0m             \u001b[0;32mtry\u001b[0m\u001b[0;34m:\u001b[0m\u001b[0;34m\u001b[0m\u001b[0m\n\u001b[0;32m-> 1608\u001b[0;31m                 \u001b[0;34m(\u001b[0m\u001b[0mpid\u001b[0m\u001b[0;34m,\u001b[0m \u001b[0msts\u001b[0m\u001b[0;34m)\u001b[0m \u001b[0;34m=\u001b[0m \u001b[0mos\u001b[0m\u001b[0;34m.\u001b[0m\u001b[0mwaitpid\u001b[0m\u001b[0;34m(\u001b[0m\u001b[0mself\u001b[0m\u001b[0;34m.\u001b[0m\u001b[0mpid\u001b[0m\u001b[0;34m,\u001b[0m \u001b[0mwait_flags\u001b[0m\u001b[0;34m)\u001b[0m\u001b[0;34m\u001b[0m\u001b[0m\n\u001b[0m\u001b[1;32m   1609\u001b[0m             \u001b[0;32mexcept\u001b[0m \u001b[0mChildProcessError\u001b[0m\u001b[0;34m:\u001b[0m\u001b[0;34m\u001b[0m\u001b[0m\n\u001b[1;32m   1610\u001b[0m                 \u001b[0;31m# This happens if SIGCLD is set to be ignored or waiting\u001b[0m\u001b[0;34m\u001b[0m\u001b[0;34m\u001b[0m\u001b[0m\n",
      "\u001b[0;31mKeyboardInterrupt\u001b[0m: "
     ]
    }
   ],
   "source": [
    "from sklearn.model_selection import train_test_split\n",
    "from sklearn.tree import DecisionTreeClassifier, DecisionTreeRegressor\n",
    "from sklearn.linear_model import SGDClassifier, SGDRegressor\n",
    "from sklearn.preprocessing import Imputer, StandardScaler\n",
    "from sklearn.pipeline import make_pipeline\n",
    "\n",
    "from tqdm import tqdm\n",
    "from itertools import product\n",
    "from pprint import pprint\n",
    "\n",
    "results = []\n",
    "\n",
    "estimator = SGDClassifier()\n",
    "params = {'max_iter':250, 'l1_ratio': 0.0, 'alpha': 1.0}\n",
    "datasets = pmlb.classification_dataset_names\n",
    "\n",
    "max_size = 1000\n",
    "\n",
    "#datasets = ['4544_GeographicalOriginalofMusic', '505_tecator']\n",
    "use_datas = []\n",
    "for name in datasets:\n",
    "    if name in {'1191_BNG_pbc', '1595_poker'}:\n",
    "        continue\n",
    "    X, y = pmlb.fetch_data(name, True)\n",
    "    print(name, X.shape)\n",
    "\n",
    "    if len(y) > max_size:\n",
    "        X = X[:max_size]\n",
    "        y = y[:max_size]\n",
    "    \n",
    "    if(len(set(y)) < 2):\n",
    "        continue\n",
    "    \n",
    "    X_train, X_test, y_train, y_test = train_test_split(X, y, random_state=0)\n",
    "    feats = make_pipeline(\n",
    "        Imputer(),\n",
    "        StandardScaler()\n",
    "    )\n",
    "    X_train = feats.fit_transform(X_train)\n",
    "    X_test = feats.transform(X_test)\n",
    "\n",
    "    result = compare_estimator(X_train, y_train, X_test, y_test, estimator, params)\n",
    "    pprint(result, width=40)\n",
    "    results.append(result)\n",
    "    use_datas.append(name)"
   ]
  },
  {
   "cell_type": "code",
   "execution_count": 4,
   "metadata": {},
   "outputs": [
    {
     "name": "stdout",
     "output_type": "stream",
     "text": [
      "JS / PY score ratio:\n"
     ]
    },
    {
     "data": {
      "text/plain": [
       "1.0043370648860004"
      ]
     },
     "metadata": {},
     "output_type": "display_data"
    },
    {
     "data": {
      "text/plain": [
       "javascript_score    0.375215\n",
       "python_score        0.375460\n",
       "dtype: float64"
      ]
     },
     "metadata": {},
     "output_type": "display_data"
    },
    {
     "name": "stdout",
     "output_type": "stream",
     "text": [
      "JS / PY runtime ratio:\n"
     ]
    },
    {
     "data": {
      "text/plain": [
       "6.576450644056651"
      ]
     },
     "metadata": {},
     "output_type": "display_data"
    },
    {
     "name": "stdout",
     "output_type": "stream",
     "text": [
      "0.007291142679533791\n",
      "-0.009394125528433106\n"
     ]
    }
   ],
   "source": [
    "import pandas as pd  \n",
    "from IPython.display import Image, display\n",
    "\n",
    "df = pd.DataFrame(results)\n",
    "\n",
    "print('JS / PY score ratio:')\n",
    "\n",
    "display((df['javascript_score'] / df['python_score']).mean())\n",
    "display((df[['javascript_score', 'python_score']]).mean())\n",
    "\n",
    "print('JS / PY runtime ratio:')\n",
    "display((df['javascript_runtime'] / df['python_runtime']).mean())\n",
    "\n",
    "print(np.max(df['javascript_score'] - df['python_score']))\n",
    "print(np.min(df['javascript_score'] - df['python_score']))"
   ]
  }
 ],
 "metadata": {
  "kernelspec": {
   "display_name": "Python 3",
   "language": "python",
   "name": "python3"
  },
  "language_info": {
   "codemirror_mode": {
    "name": "ipython",
    "version": 3
   },
   "file_extension": ".py",
   "mimetype": "text/x-python",
   "name": "python",
   "nbconvert_exporter": "python",
   "pygments_lexer": "ipython3",
   "version": "3.5.2"
  }
 },
 "nbformat": 4,
 "nbformat_minor": 2
}
